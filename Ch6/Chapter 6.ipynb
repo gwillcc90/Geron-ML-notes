{
 "cells": [
  {
   "cell_type": "markdown",
   "id": "6977ed05",
   "metadata": {},
   "source": [
    "# Decision Trees\n",
    "Like SVMs, Decision Trees are versatile ML algorithms usable on classification, regression, and multioutput tasks. They are capable of fitting complex datasets.\n",
    "\n",
    "Decision trees are the fundamental components of Random Forests, which are among the most powerful ML algorithms available.\n",
    "\n",
    "This chapter covers:\n",
    " - Training and making predictions\n",
    " - visualization of Decision Trees\n",
    " - The CART training algorithm\n",
    " - Regularizing trees for Regression tasks\n",
    " - limitations of Decision Trees"
   ]
  },
  {
   "cell_type": "markdown",
   "id": "0793ac50",
   "metadata": {},
   "source": [
    "## Training and Visualizing a Decision Tree\n",
    "The following code trains a Decision Tree classifier (I call it dt_clf on iris)."
   ]
  },
  {
   "cell_type": "code",
   "execution_count": 13,
   "id": "07bd1a60",
   "metadata": {},
   "outputs": [],
   "source": [
    "from sklearn.datasets import load_iris\n",
    "from sklearn.tree import DecisionTreeClassifier\n",
    "from sklearn import tree"
   ]
  },
  {
   "cell_type": "code",
   "execution_count": 2,
   "id": "2339e7f7",
   "metadata": {},
   "outputs": [],
   "source": [
    "iris = load_iris()"
   ]
  },
  {
   "cell_type": "code",
   "execution_count": 5,
   "id": "a11a83af",
   "metadata": {
    "collapsed": true
   },
   "outputs": [
    {
     "data": {
      "text/plain": [
       "array([[1.4, 0.2],\n",
       "       [1.4, 0.2],\n",
       "       [1.3, 0.2],\n",
       "       [1.5, 0.2],\n",
       "       [1.4, 0.2],\n",
       "       [1.7, 0.4],\n",
       "       [1.4, 0.3],\n",
       "       [1.5, 0.2],\n",
       "       [1.4, 0.2],\n",
       "       [1.5, 0.1],\n",
       "       [1.5, 0.2],\n",
       "       [1.6, 0.2],\n",
       "       [1.4, 0.1],\n",
       "       [1.1, 0.1],\n",
       "       [1.2, 0.2],\n",
       "       [1.5, 0.4],\n",
       "       [1.3, 0.4],\n",
       "       [1.4, 0.3],\n",
       "       [1.7, 0.3],\n",
       "       [1.5, 0.3],\n",
       "       [1.7, 0.2],\n",
       "       [1.5, 0.4],\n",
       "       [1. , 0.2],\n",
       "       [1.7, 0.5],\n",
       "       [1.9, 0.2],\n",
       "       [1.6, 0.2],\n",
       "       [1.6, 0.4],\n",
       "       [1.5, 0.2],\n",
       "       [1.4, 0.2],\n",
       "       [1.6, 0.2],\n",
       "       [1.6, 0.2],\n",
       "       [1.5, 0.4],\n",
       "       [1.5, 0.1],\n",
       "       [1.4, 0.2],\n",
       "       [1.5, 0.2],\n",
       "       [1.2, 0.2],\n",
       "       [1.3, 0.2],\n",
       "       [1.4, 0.1],\n",
       "       [1.3, 0.2],\n",
       "       [1.5, 0.2],\n",
       "       [1.3, 0.3],\n",
       "       [1.3, 0.3],\n",
       "       [1.3, 0.2],\n",
       "       [1.6, 0.6],\n",
       "       [1.9, 0.4],\n",
       "       [1.4, 0.3],\n",
       "       [1.6, 0.2],\n",
       "       [1.4, 0.2],\n",
       "       [1.5, 0.2],\n",
       "       [1.4, 0.2],\n",
       "       [4.7, 1.4],\n",
       "       [4.5, 1.5],\n",
       "       [4.9, 1.5],\n",
       "       [4. , 1.3],\n",
       "       [4.6, 1.5],\n",
       "       [4.5, 1.3],\n",
       "       [4.7, 1.6],\n",
       "       [3.3, 1. ],\n",
       "       [4.6, 1.3],\n",
       "       [3.9, 1.4],\n",
       "       [3.5, 1. ],\n",
       "       [4.2, 1.5],\n",
       "       [4. , 1. ],\n",
       "       [4.7, 1.4],\n",
       "       [3.6, 1.3],\n",
       "       [4.4, 1.4],\n",
       "       [4.5, 1.5],\n",
       "       [4.1, 1. ],\n",
       "       [4.5, 1.5],\n",
       "       [3.9, 1.1],\n",
       "       [4.8, 1.8],\n",
       "       [4. , 1.3],\n",
       "       [4.9, 1.5],\n",
       "       [4.7, 1.2],\n",
       "       [4.3, 1.3],\n",
       "       [4.4, 1.4],\n",
       "       [4.8, 1.4],\n",
       "       [5. , 1.7],\n",
       "       [4.5, 1.5],\n",
       "       [3.5, 1. ],\n",
       "       [3.8, 1.1],\n",
       "       [3.7, 1. ],\n",
       "       [3.9, 1.2],\n",
       "       [5.1, 1.6],\n",
       "       [4.5, 1.5],\n",
       "       [4.5, 1.6],\n",
       "       [4.7, 1.5],\n",
       "       [4.4, 1.3],\n",
       "       [4.1, 1.3],\n",
       "       [4. , 1.3],\n",
       "       [4.4, 1.2],\n",
       "       [4.6, 1.4],\n",
       "       [4. , 1.2],\n",
       "       [3.3, 1. ],\n",
       "       [4.2, 1.3],\n",
       "       [4.2, 1.2],\n",
       "       [4.2, 1.3],\n",
       "       [4.3, 1.3],\n",
       "       [3. , 1.1],\n",
       "       [4.1, 1.3],\n",
       "       [6. , 2.5],\n",
       "       [5.1, 1.9],\n",
       "       [5.9, 2.1],\n",
       "       [5.6, 1.8],\n",
       "       [5.8, 2.2],\n",
       "       [6.6, 2.1],\n",
       "       [4.5, 1.7],\n",
       "       [6.3, 1.8],\n",
       "       [5.8, 1.8],\n",
       "       [6.1, 2.5],\n",
       "       [5.1, 2. ],\n",
       "       [5.3, 1.9],\n",
       "       [5.5, 2.1],\n",
       "       [5. , 2. ],\n",
       "       [5.1, 2.4],\n",
       "       [5.3, 2.3],\n",
       "       [5.5, 1.8],\n",
       "       [6.7, 2.2],\n",
       "       [6.9, 2.3],\n",
       "       [5. , 1.5],\n",
       "       [5.7, 2.3],\n",
       "       [4.9, 2. ],\n",
       "       [6.7, 2. ],\n",
       "       [4.9, 1.8],\n",
       "       [5.7, 2.1],\n",
       "       [6. , 1.8],\n",
       "       [4.8, 1.8],\n",
       "       [4.9, 1.8],\n",
       "       [5.6, 2.1],\n",
       "       [5.8, 1.6],\n",
       "       [6.1, 1.9],\n",
       "       [6.4, 2. ],\n",
       "       [5.6, 2.2],\n",
       "       [5.1, 1.5],\n",
       "       [5.6, 1.4],\n",
       "       [6.1, 2.3],\n",
       "       [5.6, 2.4],\n",
       "       [5.5, 1.8],\n",
       "       [4.8, 1.8],\n",
       "       [5.4, 2.1],\n",
       "       [5.6, 2.4],\n",
       "       [5.1, 2.3],\n",
       "       [5.1, 1.9],\n",
       "       [5.9, 2.3],\n",
       "       [5.7, 2.5],\n",
       "       [5.2, 2.3],\n",
       "       [5. , 1.9],\n",
       "       [5.2, 2. ],\n",
       "       [5.4, 2.3],\n",
       "       [5.1, 1.8]])"
      ]
     },
     "execution_count": 5,
     "metadata": {},
     "output_type": "execute_result"
    }
   ],
   "source": [
    "X = iris.data[:,2:] # gets \"petal length\" and \"petal width\"\n",
    "# X"
   ]
  },
  {
   "cell_type": "code",
   "execution_count": 8,
   "id": "4fbdab63",
   "metadata": {},
   "outputs": [
    {
     "name": "stdout",
     "output_type": "stream",
     "text": [
      "150\n",
      "[0 1 2]\n"
     ]
    }
   ],
   "source": [
    "# Iris target gets the 150-length list of categorized flower species\n",
    "y = iris.target\n",
    "print(len(y)) # Length\n",
    "print(y[[1,51,149]]) # The 3 classes, categorized"
   ]
  },
  {
   "cell_type": "code",
   "execution_count": 9,
   "id": "932f4103",
   "metadata": {},
   "outputs": [
    {
     "data": {
      "text/html": [
       "<style>#sk-container-id-1 {color: black;background-color: white;}#sk-container-id-1 pre{padding: 0;}#sk-container-id-1 div.sk-toggleable {background-color: white;}#sk-container-id-1 label.sk-toggleable__label {cursor: pointer;display: block;width: 100%;margin-bottom: 0;padding: 0.3em;box-sizing: border-box;text-align: center;}#sk-container-id-1 label.sk-toggleable__label-arrow:before {content: \"▸\";float: left;margin-right: 0.25em;color: #696969;}#sk-container-id-1 label.sk-toggleable__label-arrow:hover:before {color: black;}#sk-container-id-1 div.sk-estimator:hover label.sk-toggleable__label-arrow:before {color: black;}#sk-container-id-1 div.sk-toggleable__content {max-height: 0;max-width: 0;overflow: hidden;text-align: left;background-color: #f0f8ff;}#sk-container-id-1 div.sk-toggleable__content pre {margin: 0.2em;color: black;border-radius: 0.25em;background-color: #f0f8ff;}#sk-container-id-1 input.sk-toggleable__control:checked~div.sk-toggleable__content {max-height: 200px;max-width: 100%;overflow: auto;}#sk-container-id-1 input.sk-toggleable__control:checked~label.sk-toggleable__label-arrow:before {content: \"▾\";}#sk-container-id-1 div.sk-estimator input.sk-toggleable__control:checked~label.sk-toggleable__label {background-color: #d4ebff;}#sk-container-id-1 div.sk-label input.sk-toggleable__control:checked~label.sk-toggleable__label {background-color: #d4ebff;}#sk-container-id-1 input.sk-hidden--visually {border: 0;clip: rect(1px 1px 1px 1px);clip: rect(1px, 1px, 1px, 1px);height: 1px;margin: -1px;overflow: hidden;padding: 0;position: absolute;width: 1px;}#sk-container-id-1 div.sk-estimator {font-family: monospace;background-color: #f0f8ff;border: 1px dotted black;border-radius: 0.25em;box-sizing: border-box;margin-bottom: 0.5em;}#sk-container-id-1 div.sk-estimator:hover {background-color: #d4ebff;}#sk-container-id-1 div.sk-parallel-item::after {content: \"\";width: 100%;border-bottom: 1px solid gray;flex-grow: 1;}#sk-container-id-1 div.sk-label:hover label.sk-toggleable__label {background-color: #d4ebff;}#sk-container-id-1 div.sk-serial::before {content: \"\";position: absolute;border-left: 1px solid gray;box-sizing: border-box;top: 0;bottom: 0;left: 50%;z-index: 0;}#sk-container-id-1 div.sk-serial {display: flex;flex-direction: column;align-items: center;background-color: white;padding-right: 0.2em;padding-left: 0.2em;position: relative;}#sk-container-id-1 div.sk-item {position: relative;z-index: 1;}#sk-container-id-1 div.sk-parallel {display: flex;align-items: stretch;justify-content: center;background-color: white;position: relative;}#sk-container-id-1 div.sk-item::before, #sk-container-id-1 div.sk-parallel-item::before {content: \"\";position: absolute;border-left: 1px solid gray;box-sizing: border-box;top: 0;bottom: 0;left: 50%;z-index: -1;}#sk-container-id-1 div.sk-parallel-item {display: flex;flex-direction: column;z-index: 1;position: relative;background-color: white;}#sk-container-id-1 div.sk-parallel-item:first-child::after {align-self: flex-end;width: 50%;}#sk-container-id-1 div.sk-parallel-item:last-child::after {align-self: flex-start;width: 50%;}#sk-container-id-1 div.sk-parallel-item:only-child::after {width: 0;}#sk-container-id-1 div.sk-dashed-wrapped {border: 1px dashed gray;margin: 0 0.4em 0.5em 0.4em;box-sizing: border-box;padding-bottom: 0.4em;background-color: white;}#sk-container-id-1 div.sk-label label {font-family: monospace;font-weight: bold;display: inline-block;line-height: 1.2em;}#sk-container-id-1 div.sk-label-container {text-align: center;}#sk-container-id-1 div.sk-container {/* jupyter's `normalize.less` sets `[hidden] { display: none; }` but bootstrap.min.css set `[hidden] { display: none !important; }` so we also need the `!important` here to be able to override the default hidden behavior on the sphinx rendered scikit-learn.org. See: https://github.com/scikit-learn/scikit-learn/issues/21755 */display: inline-block !important;position: relative;}#sk-container-id-1 div.sk-text-repr-fallback {display: none;}</style><div id=\"sk-container-id-1\" class=\"sk-top-container\"><div class=\"sk-text-repr-fallback\"><pre>DecisionTreeClassifier(max_depth=2)</pre><b>In a Jupyter environment, please rerun this cell to show the HTML representation or trust the notebook. <br />On GitHub, the HTML representation is unable to render, please try loading this page with nbviewer.org.</b></div><div class=\"sk-container\" hidden><div class=\"sk-item\"><div class=\"sk-estimator sk-toggleable\"><input class=\"sk-toggleable__control sk-hidden--visually\" id=\"sk-estimator-id-1\" type=\"checkbox\" checked><label for=\"sk-estimator-id-1\" class=\"sk-toggleable__label sk-toggleable__label-arrow\">DecisionTreeClassifier</label><div class=\"sk-toggleable__content\"><pre>DecisionTreeClassifier(max_depth=2)</pre></div></div></div></div></div>"
      ],
      "text/plain": [
       "DecisionTreeClassifier(max_depth=2)"
      ]
     },
     "execution_count": 9,
     "metadata": {},
     "output_type": "execute_result"
    }
   ],
   "source": [
    "# Building the Decision Tree classifier\n",
    "tree_clf = DecisionTreeClassifier(max_depth = 2)\n",
    "tree_clf.fit(X,y) # Fitting all data to the model"
   ]
  },
  {
   "cell_type": "code",
   "execution_count": 10,
   "id": "45bb9f9c",
   "metadata": {},
   "outputs": [],
   "source": [
    "from sklearn.tree import export_graphviz"
   ]
  },
  {
   "cell_type": "code",
   "execution_count": 12,
   "id": "e9203d25",
   "metadata": {},
   "outputs": [],
   "source": [
    "# NOTE: install graphviz from graphviz website to convert to image\n",
    "# Use the code under this one...\n",
    "export_graphviz(tree_clf,\n",
    "               out_file = 'iris_tree.dot',\n",
    "                feature_names=iris.feature_names[2:],\n",
    "                class_names=iris.target_names,\n",
    "                rounded = True,\n",
    "                filled = True)"
   ]
  },
  {
   "cell_type": "code",
   "execution_count": 18,
   "id": "5bf6e7be",
   "metadata": {},
   "outputs": [
    {
     "data": {
      "image/png": "[encoded data removed]",
      "text/plain": [
       "<Figure size 640x480 with 1 Axes>"
      ]
     },
     "metadata": {},
     "output_type": "display_data"
    }
   ],
   "source": [
    "# Use this code to visualize the tree!\n",
    "tree.plot_tree(tree_clf,\n",
    "               feature_names = iris.feature_names[2:], \n",
    "               class_names=iris.target_names,\n",
    "               filled = True);"
   ]
  },
  {
   "cell_type": "markdown",
   "id": "378fa2d1",
   "metadata": {},
   "source": [
    "## Making Predictions\n",
    "*A good quality of decision trees is that they require little data preparation, and do not require scaling or centering at all.*\n",
    "\n",
    "Using the tree above, we define the variables:\n",
    " - *samples*: counts how many training instance the node applies to.\n",
    "  - The first node (depth-0) should be testing all 150 instances in the iris dataset. The depth-1 nodes apply to 50 and 100 samples, respectively, as only the entire class of iris setosa (class 0) is applicable to the node condition.\n",
    "  \n",
    " - *value*: tells how many training instances of each class this node applies to.\n",
    "  - The green node (depth-2) shows that 49 versicolors and 5 virginicas apply to this node.\n",
    "  \n",
    " - *Gini*: measures \"Impurity\"\n",
    "  - A node is pure if all training instances belong to a single class. Note that the orange node has Gini 0 as it only applies to the setosa class.\n",
    "  \n",
    "*Gini Impurity* equation:\n",
    "\n",
    " $G_i = 1 - (\\sum_{k = 1}^{n}p_{i,k}^2)$\n",
    " \n",
    "where $p_{i,k}$ is the ratio of class k instances among the training instances in the $i^{th}$ node.\n",
    "\n",
    "The left, depth-2 node (green) has Gini score equal to:\n",
    "\n",
    "$1 - (0/54)^2 - (49/54)^2 - (5/54)^2$\n",
    "\n",
    "Note: SKlearn uses the CART algorithm which produces only binary trees: nonleaf nodes always have two children. Other algorithms such as ID3 can produce Decision Trees with nodes that have more than two children.\n",
    "\n",
    "In the code `tree_clf = DecisionTreeClassifier(max_depth = 2)`, note `max_depth = 2`. We can make the decision tree grow by making the depth larger.\n",
    "\n",
    "Note: See Figure 6-2 on page 178 in Geron ML to see the x,y plot of petal length vs petal width."
   ]
  },
  {
   "cell_type": "markdown",
   "id": "a8ae6119",
   "metadata": {},
   "source": [
    "#### Model Interpretation: White vs Black Box\n",
    "Decision trees are fairly easy to interpret as we see above, such models are called *white box* models. Other models like Random Forests and Neural Networks are called *black box* models as they are very difficult to interpret. Black box models make great predictions, but it is hard to interpret why they made great predictions: what patterns they found, etc. For example, if a Neural Network says a person appeared in a picture, it is hard to know what contributed to the prediction: the eyes, mouth, nose, etc??"
   ]
  },
  {
   "cell_type": "markdown",
   "id": "6e29d764",
   "metadata": {},
   "source": [
    "## Estimating Class Probabilities\n",
    "Decision Trees can also estimate the probability that an instance belongs to a particular class k. Recall the tree diagram above and Figure 6-2 on page 178, first it traverses the tree to find the node for the instance and returns the ratio of instances of class k in this node. \n",
    "\n",
    "Given a new (made up) observation of a flower with petal length of 5cm and petal width of 1.5cm, we can see from the above tree diagram that it would predict the Versicolor class with class probabilites \n",
    "\n",
    "[0,1,2] => [(0/54),(49/54),(5/54)] => [0%, 90.7%, 9.3%]. See below"
   ]
  },
  {
   "cell_type": "code",
   "execution_count": 19,
   "id": "fee372b8",
   "metadata": {},
   "outputs": [
    {
     "data": {
      "text/plain": [
       "array([[0.        , 0.90740741, 0.09259259]])"
      ]
     },
     "execution_count": 19,
     "metadata": {},
     "output_type": "execute_result"
    }
   ],
   "source": [
    "tree_clf.predict_proba([[5,1.5]])"
   ]
  },
  {
   "cell_type": "code",
   "execution_count": 20,
   "id": "c7eb405c",
   "metadata": {},
   "outputs": [
    {
     "data": {
      "text/plain": [
       "array([1])"
      ]
     },
     "execution_count": 20,
     "metadata": {},
     "output_type": "execute_result"
    }
   ],
   "source": [
    "tree_clf.predict([[5,1.5]])"
   ]
  },
  {
   "cell_type": "markdown",
   "id": "0e174776",
   "metadata": {},
   "source": [
    "## The CART Training Algorithm\n",
    "Sci-Kit-Learn uses the *Classification and Regression Tree* (CART) algorithm to train Decision Trees (aka grow). \n",
    "\n",
    "The *CART Algorithm*:\n",
    "\n",
    "1. Splits the training set into 2 subsets using a single feature, $k$, and a threshold $t_k$\n",
    " - i.e. (feature <= threshold) == (k <= $t_k$) == (\"petal length\" <= 2.45cm)\n",
    " \n",
    "2. $k$ and $t_k$ are chosen at each node by searching for the pair ($k$, $t_k$) that produces the purest subsets (weighted by size);\n",
    " - CART Cost function: $J(k, t_k) = \\frac{m_{left}}{m}G_{left} + \\frac{m_{right}}{m}G_{right}$\n",
    " - Where $G_{left/right}$ measures the impurity of the left/right subsets.\n",
    " - and $m_{left/right}$ is the number of instances in the left/right subset.\n",
    " - The algorithm tries to minimize this cost function\n",
    "\n",
    "3. The algorithm continues recursively and stops upon reaching `max_depth` or **if it cannot find a split that reduces impurity**\n",
    "\n",
    "A few other hyperparameters that control stopping:\n",
    " - `min_samples_split`\n",
    " - `mins_samples_leaf`\n",
    " - `min_weight_fraction_leaf`\n",
    " - `max_leaf_nodes`\n",
    " \n",
    "The CART algorithms is *greedy*: it produces good results, but they are not guaranteed to be optimal."
   ]
  },
  {
   "cell_type": "markdown",
   "id": "af3bd039",
   "metadata": {},
   "source": [
    "## Computational Complexity\n"
   ]
  }
 ],
 "metadata": {
  "kernelspec": {
   "display_name": "Python 3 (ipykernel)",
   "language": "python",
   "name": "python3"
  },
  "language_info": {
   "codemirror_mode": {
    "name": "ipython",
    "version": 3
   },
   "file_extension": ".py",
   "mimetype": "text/x-python",
   "name": "python",
   "nbconvert_exporter": "python",
   "pygments_lexer": "ipython3",
   "version": "3.9.13"
  }
 },
 "nbformat": 4,
 "nbformat_minor": 5
}
