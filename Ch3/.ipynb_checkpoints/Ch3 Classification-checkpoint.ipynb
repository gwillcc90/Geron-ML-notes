{
 "cells": [
  {
   "cell_type": "markdown",
   "id": "766d49ab",
   "metadata": {},
   "source": [
    "# Chapter 3: Classification\n",
    "Recall, the most common ML tasks are Regression and Classification."
   ]
  },
  {
   "cell_type": "markdown",
   "id": "0dcf35ad",
   "metadata": {},
   "source": [
    "## MNIST\n",
    "- 70k small handwritten digits (1-9)\n",
    "- the \"Hello World\" of ML\n",
    "- Make a new algorithm? Test it on MNIST\n",
    "\n",
    "Geron ML has its way of loading MNIST, it didn't work for me so I worked around it."
   ]
  },
  {
   "cell_type": "code",
   "execution_count": 1,
   "id": "f7849974",
   "metadata": {},
   "outputs": [],
   "source": [
    "# Packages\n",
    "import tensorflow as tf\n",
    "import numpy as np"
   ]
  },
  {
   "cell_type": "code",
   "execution_count": 2,
   "id": "0ff5033a",
   "metadata": {},
   "outputs": [],
   "source": [
    "# Import mnist (formatted as dictionary)\n",
    "d = tf.keras.datasets.mnist.load_data(\n",
    "    path='mnist.npz')\n",
    "\n",
    "# Convert mnist to np array\n",
    "e = np.array(d, dtype=object)"
   ]
  },
  {
   "cell_type": "code",
   "execution_count": 3,
   "id": "0501f6ee",
   "metadata": {},
   "outputs": [],
   "source": [
    "# Training set\n",
    "\n",
    "X_train = e[0][0]           # Train images\n",
    "y_train = e[0][1]           # Train labels\n",
    "\n",
    "\n",
    "\n",
    "# Test Set\n",
    "X_test = e[1][0]      # Test images \n",
    "y_test = e[1][1]      # Test labels"
   ]
  },
  {
   "cell_type": "code",
   "execution_count": 4,
   "id": "a168cde3",
   "metadata": {},
   "outputs": [
    {
     "name": "stdout",
     "output_type": "stream",
     "text": [
      "X-shape: (60000, 28, 28)\n",
      "y-shape: (60000,)\n",
      "X-test-shape: (10000, 28, 28)\n",
      "y-test-shape: (10000,)\n"
     ]
    }
   ],
   "source": [
    "# Dimensions of the arrays\n",
    "print(f'X-shape: {X_train.shape}')\n",
    "print(f'y-shape: {y_train.shape}')\n",
    "print(f'X-test-shape: {X_test.shape}')\n",
    "print(f'y-test-shape: {y_test.shape}')"
   ]
  },
  {
   "cell_type": "markdown",
   "id": "f1af664f",
   "metadata": {},
   "source": [
    "MNIST has 70k rows and 784 columns; there are 70k images with pixels 28x28.\n",
    "\n",
    "We can take a look at an image as such:\n",
    "\n",
    "Note: .reshape() method may be necessary to create the image"
   ]
  },
  {
   "cell_type": "code",
   "execution_count": 5,
   "id": "c89c0034",
   "metadata": {},
   "outputs": [],
   "source": [
    "import matplotlib.pyplot as plt"
   ]
  },
  {
   "cell_type": "code",
   "execution_count": 6,
   "id": "b53b2f86",
   "metadata": {},
   "outputs": [
    {
     "data": {
      "image/png": "[encoded data removed]",
      "text/plain": [
       "<Figure size 640x480 with 1 Axes>"
      ]
     },
     "metadata": {},
     "output_type": "display_data"
    }
   ],
   "source": [
    "# Testing to see if X matches labels\n",
    "plt.imshow(X_train[0].reshape(28,28))\n",
    "plt.show()"
   ]
  },
  {
   "cell_type": "code",
   "execution_count": 7,
   "id": "a1e99ace",
   "metadata": {},
   "outputs": [
    {
     "data": {
      "text/plain": [
       "5"
      ]
     },
     "execution_count": 7,
     "metadata": {},
     "output_type": "execute_result"
    }
   ],
   "source": [
    "# Label of the training instance X[0]\n",
    "y_train[0]"
   ]
  },
  {
   "cell_type": "markdown",
   "id": "b0a9caf7",
   "metadata": {},
   "source": [
    "We see from the `plt.imshow()` that the image is a **5**, and from the `y` at the same index that it is indeed a **5**\n",
    "\n",
    "Let's look at another digit for fun:"
   ]
  },
  {
   "cell_type": "code",
   "execution_count": 8,
   "id": "5c6a4c62",
   "metadata": {},
   "outputs": [
    {
     "data": {
      "text/plain": [
       "<matplotlib.image.AxesImage at 0x28c8c0789d0>"
      ]
     },
     "execution_count": 8,
     "metadata": {},
     "output_type": "execute_result"
    },
    {
     "data": {
      "image/png": "[encoded data removed]",
      "text/plain": [
       "<Figure size 640x480 with 1 Axes>"
      ]
     },
     "metadata": {},
     "output_type": "display_data"
    }
   ],
   "source": [
    "plt.imshow(X_train[245].reshape(28,28))"
   ]
  },
  {
   "cell_type": "code",
   "execution_count": 9,
   "id": "c57345f1",
   "metadata": {},
   "outputs": [
    {
     "data": {
      "text/plain": [
       "8"
      ]
     },
     "execution_count": 9,
     "metadata": {},
     "output_type": "execute_result"
    }
   ],
   "source": [
    "# Label of training instance X[245]\n",
    "y_train[245]"
   ]
  },
  {
   "cell_type": "markdown",
   "id": "f68c3c17",
   "metadata": {},
   "source": [
    "Remark: **If the MNIST dataset wasn't already split into training/testing sets, we would need to split it ourselves.**\n",
    "\n",
    "Remark: **MNIST is already shuffled, but if it wasn't we would need to because training algorithms are frequently sensetive to order and will end up creating an overfit model.** Shuffle the dataset to ensure proper training."
   ]
  },
  {
   "cell_type": "markdown",
   "id": "306b5c3e",
   "metadata": {},
   "source": [
    "## Training a Binary Classifier\n",
    "As a simple example: create a *binary* classifier that identifies **5** and **not 5**; a \"5-detector\""
   ]
  },
  {
   "cell_type": "code",
   "execution_count": 12,
   "id": "f401049e",
   "metadata": {},
   "outputs": [],
   "source": [
    "# Create boolean arrays for training and testing sets of y values\n",
    "y_train_5 = (y_train == 5)\n",
    "y_test_5 = (y_test == 5)"
   ]
  },
  {
   "cell_type": "code",
   "execution_count": 13,
   "id": "1c598e17",
   "metadata": {},
   "outputs": [
    {
     "data": {
      "text/plain": [
       "array([ True, False, False, False, False])"
      ]
     },
     "execution_count": 13,
     "metadata": {},
     "output_type": "execute_result"
    }
   ],
   "source": [
    "# Showing boolean values\n",
    "y_train_5[:5]"
   ]
  },
  {
   "cell_type": "code",
   "execution_count": 14,
   "id": "b34a10b8",
   "metadata": {},
   "outputs": [
    {
     "name": "stdout",
     "output_type": "stream",
     "text": [
      "(60000,)\n",
      "(10000,)\n"
     ]
    }
   ],
   "source": [
    "print(y_train_5.shape)\n",
    "print(y_test_5.shape)"
   ]
  },
  {
   "cell_type": "markdown",
   "id": "2d942cc2",
   "metadata": {},
   "source": [
    "Since the dataset is large, use Stochastic Gradient Descent (SGD)"
   ]
  },
  {
   "cell_type": "code",
   "execution_count": 15,
   "id": "5c93cbcf",
   "metadata": {},
   "outputs": [],
   "source": [
    "from sklearn.linear_model import SGDClassifier"
   ]
  },
  {
   "cell_type": "code",
   "execution_count": 16,
   "id": "4f926f22",
   "metadata": {},
   "outputs": [],
   "source": [
    "# Stochastic Gradient Descent classifier\n",
    "sgd_clf = SGDClassifier(random_state=42)"
   ]
  },
  {
   "cell_type": "code",
   "execution_count": 17,
   "id": "e8a6c062",
   "metadata": {},
   "outputs": [
    {
     "data": {
      "text/html": [
       "<style>#sk-container-id-1 {color: black;background-color: white;}#sk-container-id-1 pre{padding: 0;}#sk-container-id-1 div.sk-toggleable {background-color: white;}#sk-container-id-1 label.sk-toggleable__label {cursor: pointer;display: block;width: 100%;margin-bottom: 0;padding: 0.3em;box-sizing: border-box;text-align: center;}#sk-container-id-1 label.sk-toggleable__label-arrow:before {content: \"▸\";float: left;margin-right: 0.25em;color: #696969;}#sk-container-id-1 label.sk-toggleable__label-arrow:hover:before {color: black;}#sk-container-id-1 div.sk-estimator:hover label.sk-toggleable__label-arrow:before {color: black;}#sk-container-id-1 div.sk-toggleable__content {max-height: 0;max-width: 0;overflow: hidden;text-align: left;background-color: #f0f8ff;}#sk-container-id-1 div.sk-toggleable__content pre {margin: 0.2em;color: black;border-radius: 0.25em;background-color: #f0f8ff;}#sk-container-id-1 input.sk-toggleable__control:checked~div.sk-toggleable__content {max-height: 200px;max-width: 100%;overflow: auto;}#sk-container-id-1 input.sk-toggleable__control:checked~label.sk-toggleable__label-arrow:before {content: \"▾\";}#sk-container-id-1 div.sk-estimator input.sk-toggleable__control:checked~label.sk-toggleable__label {background-color: #d4ebff;}#sk-container-id-1 div.sk-label input.sk-toggleable__control:checked~label.sk-toggleable__label {background-color: #d4ebff;}#sk-container-id-1 input.sk-hidden--visually {border: 0;clip: rect(1px 1px 1px 1px);clip: rect(1px, 1px, 1px, 1px);height: 1px;margin: -1px;overflow: hidden;padding: 0;position: absolute;width: 1px;}#sk-container-id-1 div.sk-estimator {font-family: monospace;background-color: #f0f8ff;border: 1px dotted black;border-radius: 0.25em;box-sizing: border-box;margin-bottom: 0.5em;}#sk-container-id-1 div.sk-estimator:hover {background-color: #d4ebff;}#sk-container-id-1 div.sk-parallel-item::after {content: \"\";width: 100%;border-bottom: 1px solid gray;flex-grow: 1;}#sk-container-id-1 div.sk-label:hover label.sk-toggleable__label {background-color: #d4ebff;}#sk-container-id-1 div.sk-serial::before {content: \"\";position: absolute;border-left: 1px solid gray;box-sizing: border-box;top: 0;bottom: 0;left: 50%;z-index: 0;}#sk-container-id-1 div.sk-serial {display: flex;flex-direction: column;align-items: center;background-color: white;padding-right: 0.2em;padding-left: 0.2em;position: relative;}#sk-container-id-1 div.sk-item {position: relative;z-index: 1;}#sk-container-id-1 div.sk-parallel {display: flex;align-items: stretch;justify-content: center;background-color: white;position: relative;}#sk-container-id-1 div.sk-item::before, #sk-container-id-1 div.sk-parallel-item::before {content: \"\";position: absolute;border-left: 1px solid gray;box-sizing: border-box;top: 0;bottom: 0;left: 50%;z-index: -1;}#sk-container-id-1 div.sk-parallel-item {display: flex;flex-direction: column;z-index: 1;position: relative;background-color: white;}#sk-container-id-1 div.sk-parallel-item:first-child::after {align-self: flex-end;width: 50%;}#sk-container-id-1 div.sk-parallel-item:last-child::after {align-self: flex-start;width: 50%;}#sk-container-id-1 div.sk-parallel-item:only-child::after {width: 0;}#sk-container-id-1 div.sk-dashed-wrapped {border: 1px dashed gray;margin: 0 0.4em 0.5em 0.4em;box-sizing: border-box;padding-bottom: 0.4em;background-color: white;}#sk-container-id-1 div.sk-label label {font-family: monospace;font-weight: bold;display: inline-block;line-height: 1.2em;}#sk-container-id-1 div.sk-label-container {text-align: center;}#sk-container-id-1 div.sk-container {/* jupyter's `normalize.less` sets `[hidden] { display: none; }` but bootstrap.min.css set `[hidden] { display: none !important; }` so we also need the `!important` here to be able to override the default hidden behavior on the sphinx rendered scikit-learn.org. See: https://github.com/scikit-learn/scikit-learn/issues/21755 */display: inline-block !important;position: relative;}#sk-container-id-1 div.sk-text-repr-fallback {display: none;}</style><div id=\"sk-container-id-1\" class=\"sk-top-container\"><div class=\"sk-text-repr-fallback\"><pre>SGDClassifier(random_state=42)</pre><b>In a Jupyter environment, please rerun this cell to show the HTML representation or trust the notebook. <br />On GitHub, the HTML representation is unable to render, please try loading this page with nbviewer.org.</b></div><div class=\"sk-container\" hidden><div class=\"sk-item\"><div class=\"sk-estimator sk-toggleable\"><input class=\"sk-toggleable__control sk-hidden--visually\" id=\"sk-estimator-id-1\" type=\"checkbox\" checked><label for=\"sk-estimator-id-1\" class=\"sk-toggleable__label sk-toggleable__label-arrow\">SGDClassifier</label><div class=\"sk-toggleable__content\"><pre>SGDClassifier(random_state=42)</pre></div></div></div></div></div>"
      ],
      "text/plain": [
       "SGDClassifier(random_state=42)"
      ]
     },
     "execution_count": 17,
     "metadata": {},
     "output_type": "execute_result"
    }
   ],
   "source": [
    "# Fit data and true/false values: X is training set, \n",
    "sgd_clf.fit(X_train.reshape(60000,28*28),y_train_5)"
   ]
  },
  {
   "cell_type": "code",
   "execution_count": 18,
   "id": "fd47ba43",
   "metadata": {},
   "outputs": [
    {
     "data": {
      "text/plain": [
       "array([ True])"
      ]
     },
     "execution_count": 18,
     "metadata": {},
     "output_type": "execute_result"
    }
   ],
   "source": [
    "# predict 5 at end of testing set (len(X_test)-2)\n",
    "sgd_clf.predict(X_test[len(X_test)-2].reshape(1,28*28))\n",
    "# Correctly predicts True"
   ]
  },
  {
   "cell_type": "code",
   "execution_count": 19,
   "id": "49c06cc7",
   "metadata": {},
   "outputs": [
    {
     "data": {
      "text/plain": [
       "5"
      ]
     },
     "execution_count": 19,
     "metadata": {},
     "output_type": "execute_result"
    }
   ],
   "source": [
    "y_test[len(X_test)-2] # The \"5-detector\" predicted correctly!"
   ]
  },
  {
   "cell_type": "markdown",
   "id": "39ef609e",
   "metadata": {},
   "source": [
    "## Performance Measures\n",
    "Evaluation of a classifier is trickier than evaluation of a regressor.\n",
    "\n",
    "\n",
    "### Measuring Accuracy Using Cross-Validation\n",
    "A good way to evaluate a model is to use cross validation.\n",
    "\n",
    "The next example is a way to implement cross validation yourself without the built-in function:"
   ]
  },
  {
   "cell_type": "code",
   "execution_count": 20,
   "id": "e8b90243",
   "metadata": {},
   "outputs": [
    {
     "name": "stdout",
     "output_type": "stream",
     "text": [
      "[19964 19965 19966 ... 59997 59998 59999]\n",
      "0.95035\n",
      "[    0     1     2 ... 59997 59998 59999]\n",
      "0.96035\n",
      "[    0     1     2 ... 40088 40125 40127]\n",
      "0.9604\n"
     ]
    }
   ],
   "source": [
    "####### IMPLEMENT CROSS VALIDATION FUNCTION YOURESELF ##################\n",
    "from sklearn.model_selection import StratifiedKFold\n",
    "from sklearn.base import clone # Constructs unfitted estimator with same parameters as argument\n",
    "\n",
    "# Provides train-test indices\n",
    "skfolds = StratifiedKFold(n_splits=3)\n",
    "\n",
    "\n",
    "for train_index, test_index in skfolds.split(X_train.reshape(60000,28*28), y_train_5):\n",
    "    clone_clf = clone(sgd_clf)\n",
    "    print(train_index)\n",
    "    # The folds vars contain subsets of datasets for validation\n",
    "    X_train_folds = X_train[train_index].reshape(X_train[train_index].shape[0],28*28)\n",
    "    y_train_folds = y_train_5[train_index]\n",
    "    X_test_folds = X_train[test_index].reshape(X_train[test_index].shape[0],28*28)\n",
    "    y_test_folds = y_train_5[test_index]\n",
    "    \n",
    "    clone_clf.fit(X_train_folds,y_train_folds)\n",
    "    y_pred = clone_clf.predict(X_test_folds)\n",
    "    n_correct = sum(y_test_folds == y_pred)\n",
    "    print(n_correct/len(y_pred))\n",
    "    \n",
    "#########################################################################"
   ]
  },
  {
   "cell_type": "markdown",
   "id": "b1546eab",
   "metadata": {},
   "source": [
    "Easier than creating a custom function is to use the `cross_val_score()` function to evaluate your classifier. `cross_val_score()` splits the training set into *K* folds (we will use 3), then make predictions and evaluate on each fold."
   ]
  },
  {
   "cell_type": "code",
   "execution_count": 21,
   "id": "6e5383c4",
   "metadata": {},
   "outputs": [
    {
     "data": {
      "text/plain": [
       "array([0.95035, 0.96035, 0.9604 ])"
      ]
     },
     "execution_count": 21,
     "metadata": {},
     "output_type": "execute_result"
    }
   ],
   "source": [
    "# Import the cross_val_score() function\n",
    "from sklearn.model_selection import cross_val_score\n",
    "# Train and evaluate on 3 folds (splits) using the 'accuracy' metric\n",
    "cross_val_score(sgd_clf, X_train.reshape(60000,28*28), y_train_5, cv=3, scoring=\"accuracy\")"
   ]
  },
  {
   "cell_type": "markdown",
   "id": "7bebaf00",
   "metadata": {},
   "source": [
    "The `cross_val_score()` gives us great results, except what if it's just not predicting 5 at all?\n",
    "\n",
    "Next is an example of a \"dumb\" classifier that just never predicts 5:"
   ]
  },
  {
   "cell_type": "code",
   "execution_count": 22,
   "id": "784d3d50",
   "metadata": {},
   "outputs": [
    {
     "data": {
      "text/plain": [
       "array([0.91125, 0.90855, 0.90915])"
      ]
     },
     "execution_count": 22,
     "metadata": {},
     "output_type": "execute_result"
    }
   ],
   "source": [
    "from sklearn.base import BaseEstimator\n",
    "class Never5Classifier(BaseEstimator):\n",
    "    def fit(self, X, y=None):\n",
    "        pass\n",
    "    def predict(self, X):\n",
    "        return np.zeros((len(X), 1), dtype=bool) # Always predicts false\n",
    "    \n",
    "never_5_clf = Never5Classifier()\n",
    "cross_val_score(never_5_clf, X_train.reshape(60000,28*28), y_train_5, cv=3, scoring=\"accuracy\")"
   ]
  },
  {
   "cell_type": "markdown",
   "id": "37a2762f",
   "metadata": {},
   "source": [
    "The fact that we can just guess `FALSE` on everything is the reason why *accuracy* is not the preferred metric in classification. What if the dataset is skewed and 5 is represented as 50% of the datapoints? Then the same classifier only has 50% accuracy! This leads into classification metrics"
   ]
  },
  {
   "cell_type": "markdown",
   "id": "dd8eeb05",
   "metadata": {},
   "source": [
    "## Confusion Matrix\n",
    "A better way to look at classification performance.\n",
    "\n",
    "\"For example, to know the number of times the classifier confused images of 5 with 3, look at the $5^{th}$ row and $3^{rd}$ column of the Confusion Matrix.\n",
    "\n"
   ]
  },
  {
   "cell_type": "code",
   "execution_count": null,
   "id": "72ca46f3",
   "metadata": {},
   "outputs": [],
   "source": []
  }
 ],
 "metadata": {
  "kernelspec": {
   "display_name": "Python 3 (ipykernel)",
   "language": "python",
   "name": "python3"
  },
  "language_info": {
   "codemirror_mode": {
    "name": "ipython",
    "version": 3
   },
   "file_extension": ".py",
   "mimetype": "text/x-python",
   "name": "python",
   "nbconvert_exporter": "python",
   "pygments_lexer": "ipython3",
   "version": "3.9.13"
  }
 },
 "nbformat": 4,
 "nbformat_minor": 5
}
