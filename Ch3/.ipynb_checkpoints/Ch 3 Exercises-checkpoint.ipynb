{
 "cells": [
  {
   "cell_type": "markdown",
   "id": "b4d2d39d",
   "metadata": {},
   "source": [
    "1. Try to build a classifier for the MNIST dataset that achieves over 97% accuracy on the test set. Hint: the KNeighborsClassifier works quite well for this task; you just need to find good hyperparameter values (try a grid search on the\n",
    "weights and n_neighbors hyperparameters)."
   ]
  },
  {
   "cell_type": "code",
   "execution_count": 8,
   "id": "318b7fb0",
   "metadata": {},
   "outputs": [],
   "source": [
    "# Packages\n",
    "import tensorflow as tf\n",
    "import numpy as np\n",
    "\n",
    "\n",
    "# Import mnist (formatted as dictionary)\n",
    "d = tf.keras.datasets.mnist.load_data(\n",
    "    path='mnist.npz')\n",
    "\n",
    "# Convert mnist to np array\n",
    "e = np.array(d, dtype=object)\n",
    "\n",
    "\n",
    "# Training set\n",
    "\n",
    "X = e[0][0]           # Train images\n",
    "y = e[0][1]           # Train labels\n",
    "\n",
    "\n",
    "X = X.reshape(60000, 28*28)\n",
    "\n",
    "\n",
    "\n",
    "# Test Set\n",
    "X_test = e[1][0]      # Test images \n",
    "y_test = e[1][1]      # Test labels"
   ]
  },
  {
   "cell_type": "code",
   "execution_count": 9,
   "id": "9e2405d3",
   "metadata": {},
   "outputs": [],
   "source": [
    "from sklearn.neighbors import KNeighborsClassifier\n",
    "knn = KNeighborsClassifier()\n",
    "\n",
    "knn_params = {'n_neighbors':[2,4,8,16,32], 'weights':['uniform','distance']}\n",
    "\n",
    "from sklearn.model_selection import GridSearchCV\n",
    "\n",
    "knn_cv = GridSearchCV(knn, knn_params)"
   ]
  },
  {
   "cell_type": "code",
   "execution_count": null,
   "id": "8f1e3387",
   "metadata": {},
   "outputs": [],
   "source": [
    "knn_cv.fit(X,y)"
   ]
  },
  {
   "cell_type": "code",
   "execution_count": null,
   "id": "eacfd643",
   "metadata": {},
   "outputs": [],
   "source": [
    "preds = knn_cv.predict(X_test)\n",
    "from sklearn.metrics import accuracy_score\n",
    "accuracy_score(y_test, preds)"
   ]
  },
  {
   "cell_type": "code",
   "execution_count": null,
   "id": "1e27fbb9",
   "metadata": {},
   "outputs": [],
   "source": []
  },
  {
   "cell_type": "markdown",
   "id": "32411697",
   "metadata": {},
   "source": [
    "3. Tackle the Titanic dataset. A great place to start is on Kaggle."
   ]
  },
  {
   "cell_type": "code",
   "execution_count": null,
   "id": "51633975",
   "metadata": {},
   "outputs": [],
   "source": [
    "titanic_train = pd.read_csv('train.csv')\n",
    "titanic_test = pd.read_csv('test.csv')"
   ]
  },
  {
   "cell_type": "code",
   "execution_count": null,
   "id": "d23a7e0b",
   "metadata": {},
   "outputs": [],
   "source": []
  }
 ],
 "metadata": {
  "kernelspec": {
   "display_name": "Python 3 (ipykernel)",
   "language": "python",
   "name": "python3"
  },
  "language_info": {
   "codemirror_mode": {
    "name": "ipython",
    "version": 3
   },
   "file_extension": ".py",
   "mimetype": "text/x-python",
   "name": "python",
   "nbconvert_exporter": "python",
   "pygments_lexer": "ipython3",
   "version": "3.9.13"
  }
 },
 "nbformat": 4,
 "nbformat_minor": 5
}
