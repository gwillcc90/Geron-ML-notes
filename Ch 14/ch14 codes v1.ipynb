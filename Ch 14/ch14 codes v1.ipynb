{
 "cells": [
  {
   "cell_type": "markdown",
   "id": "563b2086",
   "metadata": {},
   "source": [
    "# Chapter 14 codes"
   ]
  },
  {
   "cell_type": "code",
   "execution_count": 1,
   "id": "bdc95013",
   "metadata": {},
   "outputs": [
    {
     "name": "stdout",
     "output_type": "stream",
     "text": [
      "WARNING:tensorflow:From C:\\Users\\linda\\anaconda3\\envs\\tf\\lib\\site-packages\\tensorflow\\python\\compat\\v2_compat.py:101: disable_resource_variables (from tensorflow.python.ops.variable_scope) is deprecated and will be removed in a future version.\n",
      "Instructions for updating:\n",
      "non-resource variables are not supported in the long term\n"
     ]
    }
   ],
   "source": [
    "import tensorflow.compat.v1 as tf\n",
    "tf.disable_v2_behavior() "
   ]
  },
  {
   "cell_type": "code",
   "execution_count": 2,
   "id": "cd30dc8c",
   "metadata": {},
   "outputs": [
    {
     "name": "stdout",
     "output_type": "stream",
     "text": [
      "Tensor(\"Placeholder:0\", shape=(?, 3), dtype=float32)\n",
      "Tensor(\"Placeholder_1:0\", shape=(?, 3), dtype=float32)\n",
      "<tf.Variable 'Variable:0' shape=(3, 5) dtype=float32_ref>\n",
      "<tf.Variable 'Variable_1:0' shape=(5, 5) dtype=float32_ref>\n",
      "<tf.Variable 'Variable_2:0' shape=(1, 5) dtype=float32_ref>\n",
      "Tensor(\"Tanh:0\", shape=(?, 5), dtype=float32)\n",
      "Tensor(\"Tanh_1:0\", shape=(?, 5), dtype=float32)\n"
     ]
    }
   ],
   "source": [
    "# \"First, let’s implement a very simple RNN model, without using \n",
    "# any of TensorFlow’s RNN operations, to better understand what goes on under the hood.\"\n",
    "\n",
    "\n",
    "n_inputs = 3\n",
    "n_neurons = 5\n",
    "\n",
    "# This is a single cell (layer) RNN with 5 neurons in the cell\n",
    "\n",
    "# Takes an input vector of size n_inputs at each step\n",
    "\n",
    "# The RNN only runs through 2 time steps\n",
    "\n",
    "X0 = tf.placeholder(tf.float32, [None, n_inputs])\n",
    "print(X0)\n",
    "\n",
    "X1 = tf.placeholder(tf.float32, [None, n_inputs])\n",
    "print(X1)\n",
    "\n",
    "Wx = tf.Variable(tf.random_normal(shape=[n_inputs, n_neurons],dtype=tf.float32))\n",
    "print(Wx)\n",
    "Wy = tf.Variable(tf.random_normal(shape=[n_neurons,n_neurons],dtype=tf.float32))\n",
    "print(Wy)\n",
    "b = tf.Variable(tf.zeros([1, n_neurons], dtype=tf.float32))\n",
    "print(b)\n",
    "\n",
    "Y0 = tf.tanh(tf.matmul(X0, Wx) + b)\n",
    "print(Y0)\n",
    "Y1 = tf.tanh(tf.matmul(Y0, Wy) + tf.matmul(X1, Wx) + b)\n",
    "print(Y1)\n",
    "\n",
    "init = tf.global_variables_initializer()"
   ]
  },
  {
   "cell_type": "code",
   "execution_count": 3,
   "id": "06dd27a2",
   "metadata": {},
   "outputs": [],
   "source": [
    "import numpy as np\n",
    "\n",
    "# Mini-batch:        instance 0,instance 1,instance 2,instance 3\n",
    "X0_batch = np.array([[0, 1, 2], [3, 4, 5], [6, 7, 8], [9, 0, 1]]) # t = 0\n",
    "X1_batch = np.array([[9, 8, 7], [0, 0, 0], [6, 5, 4], [3, 2, 1]]) # t = 1\n",
    "\n",
    "with tf.Session() as sess:\n",
    "    init.run()\n",
    "    Y0_val, Y1_val = sess.run([Y0, Y1], feed_dict={X0: X0_batch, X1: X1_batch})"
   ]
  },
  {
   "cell_type": "code",
   "execution_count": 4,
   "id": "d8a1d418",
   "metadata": {},
   "outputs": [
    {
     "name": "stdout",
     "output_type": "stream",
     "text": [
      "[[ 0.99901783  0.9828505  -0.84773266  0.9465726  -0.5290006 ]\n",
      " [ 1.          1.         -0.9994184   1.         -0.9991877 ]\n",
      " [ 1.          1.         -0.99999815  1.         -0.9999989 ]\n",
      " [ 1.          1.          0.8593841   1.         -1.        ]]\n",
      "\n",
      "[[ 1.          1.         -0.93551964  1.         -1.        ]\n",
      " [ 0.36935315 -0.9849068   0.9999947   0.86651397 -1.        ]\n",
      " [ 1.          1.          0.96580434  1.         -1.        ]\n",
      " [ 0.99997663  0.999373   -0.01769763  1.         -0.9999705 ]]\n"
     ]
    }
   ],
   "source": [
    "print(Y0_val) # Output at t = 0\n",
    "print()\n",
    "print(Y1_val) # Output at t = 1\n",
    "\n",
    "\n",
    "# There are 4 rows of outputs (1 for each fed instance)\n",
    "# There are 5 columns: 1 for each output neuron (see n_neurons)"
   ]
  },
  {
   "cell_type": "code",
   "execution_count": null,
   "id": "7a0fe2ec",
   "metadata": {},
   "outputs": [],
   "source": [
    "# Creating the same model using TF\n",
    "\n",
    "X0 = tf.placeholder(tf.float32, [None, n_inputs])\n",
    "X1 = tf.placeholder(tf.float32, [None, n_inputs])\n",
    "\n",
    "\n",
    "# Creating the cell (layer)\n",
    "basic_cell = tf.contrib.rnn.BasicRNNCell(num_units=n_neurons)\n",
    "\n",
    "# static_rnn creates an unrolled network by chaining cells\n",
    "output_seqs, states = tf.contrib.rnn.static_rnn(basic_cell, [X0, X1],\n",
    "                                                dtype=tf.float32)\n",
    "Y0, Y1 = output_seqs"
   ]
  },
  {
   "cell_type": "code",
   "execution_count": null,
   "id": "a091f132",
   "metadata": {},
   "outputs": [],
   "source": []
  },
  {
   "cell_type": "code",
   "execution_count": null,
   "id": "7fad33c5",
   "metadata": {},
   "outputs": [],
   "source": []
  }
 ],
 "metadata": {
  "kernelspec": {
   "display_name": "Python 3 (ipykernel)",
   "language": "python",
   "name": "python3"
  },
  "language_info": {
   "codemirror_mode": {
    "name": "ipython",
    "version": 3
   },
   "file_extension": ".py",
   "mimetype": "text/x-python",
   "name": "python",
   "nbconvert_exporter": "python",
   "pygments_lexer": "ipython3",
   "version": "3.9.13"
  }
 },
 "nbformat": 4,
 "nbformat_minor": 5
}
