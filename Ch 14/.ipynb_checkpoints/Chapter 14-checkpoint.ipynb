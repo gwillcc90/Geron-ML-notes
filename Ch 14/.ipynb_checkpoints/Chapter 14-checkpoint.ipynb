{
 "cells": [
  {
   "cell_type": "markdown",
   "id": "95d29db8",
   "metadata": {},
   "source": [
    "# Chapter 14: Deep Computer Vision Using Convolutional Neural Networks\n",
    "\n",
    "Note: CNNs are not restricted to visual perception tasks and are useful in voice recognition and NLP tasks.\n",
    "\n",
    "In this chapter:\n",
    " - CNN theory and building blocks\n",
    " - implementation with TF and Keras\n",
    " - tasks like object detection and semantic segmentation"
   ]
  },
  {
   "cell_type": "code",
   "execution_count": null,
   "id": "e728ddf9",
   "metadata": {},
   "outputs": [],
   "source": []
  }
 ],
 "metadata": {
  "kernelspec": {
   "display_name": "Python 3 (ipykernel)",
   "language": "python",
   "name": "python3"
  },
  "language_info": {
   "codemirror_mode": {
    "name": "ipython",
    "version": 3
   },
   "file_extension": ".py",
   "mimetype": "text/x-python",
   "name": "python",
   "nbconvert_exporter": "python",
   "pygments_lexer": "ipython3",
   "version": "3.9.13"
  }
 },
 "nbformat": 4,
 "nbformat_minor": 5
}
