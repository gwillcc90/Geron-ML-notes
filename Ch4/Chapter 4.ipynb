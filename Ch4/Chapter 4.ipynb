{
 "cells": [
  {
   "cell_type": "markdown",
   "id": "883bfddc",
   "metadata": {},
   "source": [
    "# Chapter 4: Training Models\n",
    "We could use ML algorithms like black boxes and not know the implementation details, but knowing some under-the-hood details lets us quickly find appropriate models, train algorithms, and tune hyperparameters. It also helps with debugging and analysis.\n",
    "\n",
    "This chapter covers:\n",
    " - Linear Regression\n",
    "  - \"Closed-Form\" : Use linear algebra to directly compute model parameters (coefficients)\n",
    "  - Iterative Optimization: Gradient Descent which eventually converges to the same set of parameters as the \"closed-form\"\n",
    " - Polynomial Regression\n",
    "  - More complex than Linear Regression and can fit non-linear data \n",
    "  - More prone to overfitting; detect with learning curves\n",
    "  - Regularization to reduce risk of overfitting\n",
    " - Logistic Regression\n",
    " - Softmax Regression"
   ]
  },
  {
   "cell_type": "markdown",
   "id": "b1f7b2c0",
   "metadata": {},
   "source": [
    "## Linear Regression\n",
    "A linear model makes a prediction by **computing a weighted sum of input features plus a *bias term (intercept term)***.\n",
    "\n",
    "Linear Regression model prediction:\n",
    "$\\hat{y} = \\theta_0 + \\theta_1x_1 + \\theta_2x_2 + ... + \\theta_nx_n$\n",
    "- $\\hat{y}$ is the predicted value\n",
    "- n is the number of features\n",
    "- $x_i$ is the $i^{th}$ feature\n",
    "- $\\theta_j$ is the $j^{th}$ model parameter (<- bias term $\\theta_0$ and the feature weights $\\theta_1$, $\\theta_2$ ... $\\theta_n$)\n",
    "\n",
    "Linear Regression model prediction (vectorize):\n",
    "$\\hat{y} = \\vec{\\theta} \\cdot \\vec{x}$\n",
    "\n",
    "**Def'n.** Training a model: *setting* model parameters to best fit the training set and finding the best combination of model parameters to minimize a cost function.\n",
    "\n",
    "For model training, we need to measure how good or bad the model fits the training set.\n",
    "- Use a performance metric\n",
    " - RMSE is the most common\n",
    " - MSE is better and leads to same result\n",
    "- Find the value of $\\vec{\\theta}$ (coefficient vector) that minimizes the RMSE\n",
    "\n",
    "Note: *setting* model parameters is a bit misleading. We set *hyperparameters*, the data itself creates the *parameters*\n",
    "\n",
    "MSE cost function for a Linear Regression model: $MSE(\\hat{\\theta}) = (1/m)\\sum_{i = 1}^{m}(\\vec{\\theta^{T}}\\vec{x}^{(i)} - y^{(i)})^2 = (1/m)\\sum_{i = 1}^{m}(\\hat{y^{(i)}} - y^{(i)})^2$"
   ]
  },
  {
   "cell_type": "markdown",
   "id": "a3cbdc75",
   "metadata": {},
   "source": [
    "## The Normal Equation\n",
    "The Normal Equation is the \"closed-form\" solution: a mathematical equation that directly gives us the $\\vec{\\theta}$ that minimizes the cost function (MSE in this case).\n",
    "\n",
    "The Normal Equation: $\\hat{\\vec{\\theta}} = (\\textbf{X}^T\\textbf{X})^{-1}\\textbf{X}\\vec{y}$\n",
    "- $\\hat{\\vec{\\theta}}$ is the value of $\\vec{\\theta}$ that minimizes the cost\n",
    "- $\\vec{y}$ is the true target values $y^{(i)}$ to $y^{(m)}$\n",
    "\n",
    "Test the equation:"
   ]
  },
  {
   "cell_type": "code",
   "execution_count": 1,
   "id": "8356fa73",
   "metadata": {},
   "outputs": [],
   "source": [
    "import numpy as np\n",
    "import matplotlib.pyplot as plt"
   ]
  },
  {
   "cell_type": "code",
   "execution_count": 2,
   "id": "e1c6a88d",
   "metadata": {},
   "outputs": [],
   "source": [
    "# Linear looking data\n",
    "X = 2 * np.random.rand(100,1)\n",
    "y = 4 + 3 * X + np.random.rand(100,1)"
   ]
  },
  {
   "cell_type": "code",
   "execution_count": 3,
   "id": "042924bb",
   "metadata": {},
   "outputs": [
    {
     "name": "stdout",
     "output_type": "stream",
     "text": [
      "[[0.29365112]\n",
      " [1.43046955]\n",
      " [1.17714839]\n",
      " [0.60575828]\n",
      " [0.63789689]]\n",
      "\n",
      "[[5.8276278 ]\n",
      " [8.5154985 ]\n",
      " [8.11552868]\n",
      " [6.1355673 ]\n",
      " [5.93556699]]\n"
     ]
    }
   ],
   "source": [
    "print(X[0:5])\n",
    "print()\n",
    "print(y[0:5])"
   ]
  },
  {
   "cell_type": "code",
   "execution_count": 4,
   "id": "d6e28969",
   "metadata": {},
   "outputs": [
    {
     "data": {
      "text/plain": [
       "<matplotlib.collections.PathCollection at 0x17d72f14dc0>"
      ]
     },
     "execution_count": 4,
     "metadata": {},
     "output_type": "execute_result"
    },
    {
     "data": {
      "image/png": "[encoded data removed]",
      "text/plain": [
       "<Figure size 640x480 with 1 Axes>"
      ]
     },
     "metadata": {},
     "output_type": "display_data"
    }
   ],
   "source": [
    "# Plot\n",
    "plt.scatter(X,y, s = 5)\n",
    "#?plt.scatter"
   ]
  },
  {
   "cell_type": "markdown",
   "id": "60e084f3",
   "metadata": {},
   "source": [
    "Compute $\\vec{\\theta}$ using the Normal Equation\n",
    "- .inv() computes the inverse\n",
    "- .dot() computes the dot product"
   ]
  },
  {
   "cell_type": "code",
   "execution_count": 5,
   "id": "be94cdc0",
   "metadata": {},
   "outputs": [],
   "source": [
    "X_b = np.c_[np.ones((100,1)),X] # a column vector of ones added to the X matrix (a model matrix)\n",
    "theta_best = np.linalg.inv(X_b.T.dot(X_b)).dot(X_b.T).dot(y)"
   ]
  },
  {
   "cell_type": "code",
   "execution_count": 6,
   "id": "ccd10b7a",
   "metadata": {},
   "outputs": [
    {
     "data": {
      "text/plain": [
       "array([[1.        , 0.29365112],\n",
       "       [1.        , 1.43046955],\n",
       "       [1.        , 1.17714839],\n",
       "       [1.        , 0.60575828],\n",
       "       [1.        , 0.63789689]])"
      ]
     },
     "execution_count": 6,
     "metadata": {},
     "output_type": "execute_result"
    }
   ],
   "source": [
    "X_b[:5]"
   ]
  },
  {
   "cell_type": "code",
   "execution_count": 7,
   "id": "d2d9234f",
   "metadata": {},
   "outputs": [
    {
     "data": {
      "text/plain": [
       "array([[4.45745482],\n",
       "       [3.00817572]])"
      ]
     },
     "execution_count": 7,
     "metadata": {},
     "output_type": "execute_result"
    }
   ],
   "source": [
    "theta_best"
   ]
  },
  {
   "cell_type": "markdown",
   "id": "bcaf3ae5",
   "metadata": {},
   "source": [
    "`theta_best` is close to the linear equation we set above in creating the data `y = 4 + 3 * X + np.random.rand(100,1)` being $y = 4+3x_1 + GaussianNoise$.\n",
    "\n",
    "$\\theta_0$ should be 4 and $\\theta_1$ should be 3, but close enough. Noise makes it impossible to recover the exact parameters.\n",
    "\n",
    "**Now that we have the minimized $\\vec{\\theta}$, we can make predictions of new data points.**"
   ]
  },
  {
   "cell_type": "code",
   "execution_count": 8,
   "id": "5d9306c2",
   "metadata": {},
   "outputs": [],
   "source": [
    "X_new = np.array([[0], [2]])          # 2 instances\n",
    "X_new_b = np.c_[np.ones((2,1)), X_new]# New model Matrix\n",
    "y_predict = X_new_b.dot(theta_best)"
   ]
  },
  {
   "cell_type": "code",
   "execution_count": 9,
   "id": "b4e6cc93",
   "metadata": {},
   "outputs": [
    {
     "name": "stdout",
     "output_type": "stream",
     "text": [
      "[[0]\n",
      " [2]]\n",
      "\n",
      "[[1. 0.]\n",
      " [1. 2.]]\n",
      "\n",
      "[[ 4.45745482]\n",
      " [10.47380625]]\n"
     ]
    }
   ],
   "source": [
    "print(X_new[:2])\n",
    "print()\n",
    "print(X_new_b[:2])\n",
    "print()\n",
    "print(y_predict)"
   ]
  },
  {
   "cell_type": "code",
   "execution_count": 10,
   "id": "4ed87b37",
   "metadata": {},
   "outputs": [
    {
     "data": {
      "image/png": "[encoded data removed]",
      "text/plain": [
       "<Figure size 640x480 with 1 Axes>"
      ]
     },
     "metadata": {},
     "output_type": "display_data"
    }
   ],
   "source": [
    "#Plot\n",
    "plt.plot(X_new,y_predict, 'r-')\n",
    "plt.plot(X,y,'b.')\n",
    "plt.axis([0, 2, 0, 15]); # Axis size"
   ]
  },
  {
   "cell_type": "markdown",
   "id": "c73cb8df",
   "metadata": {},
   "source": [
    "We can do it like that, but Scikit-Learn has an easy implementation for us."
   ]
  },
  {
   "cell_type": "code",
   "execution_count": 11,
   "id": "271675d0",
   "metadata": {},
   "outputs": [],
   "source": [
    "from sklearn.linear_model import LinearRegression # Import the model container\n",
    "lin_reg = LinearRegression()                      # Create an empty model"
   ]
  },
  {
   "cell_type": "code",
   "execution_count": 12,
   "id": "fb4e9422",
   "metadata": {},
   "outputs": [
    {
     "data": {
      "text/html": [
       "<style>#sk-container-id-1 {color: black;background-color: white;}#sk-container-id-1 pre{padding: 0;}#sk-container-id-1 div.sk-toggleable {background-color: white;}#sk-container-id-1 label.sk-toggleable__label {cursor: pointer;display: block;width: 100%;margin-bottom: 0;padding: 0.3em;box-sizing: border-box;text-align: center;}#sk-container-id-1 label.sk-toggleable__label-arrow:before {content: \"▸\";float: left;margin-right: 0.25em;color: #696969;}#sk-container-id-1 label.sk-toggleable__label-arrow:hover:before {color: black;}#sk-container-id-1 div.sk-estimator:hover label.sk-toggleable__label-arrow:before {color: black;}#sk-container-id-1 div.sk-toggleable__content {max-height: 0;max-width: 0;overflow: hidden;text-align: left;background-color: #f0f8ff;}#sk-container-id-1 div.sk-toggleable__content pre {margin: 0.2em;color: black;border-radius: 0.25em;background-color: #f0f8ff;}#sk-container-id-1 input.sk-toggleable__control:checked~div.sk-toggleable__content {max-height: 200px;max-width: 100%;overflow: auto;}#sk-container-id-1 input.sk-toggleable__control:checked~label.sk-toggleable__label-arrow:before {content: \"▾\";}#sk-container-id-1 div.sk-estimator input.sk-toggleable__control:checked~label.sk-toggleable__label {background-color: #d4ebff;}#sk-container-id-1 div.sk-label input.sk-toggleable__control:checked~label.sk-toggleable__label {background-color: #d4ebff;}#sk-container-id-1 input.sk-hidden--visually {border: 0;clip: rect(1px 1px 1px 1px);clip: rect(1px, 1px, 1px, 1px);height: 1px;margin: -1px;overflow: hidden;padding: 0;position: absolute;width: 1px;}#sk-container-id-1 div.sk-estimator {font-family: monospace;background-color: #f0f8ff;border: 1px dotted black;border-radius: 0.25em;box-sizing: border-box;margin-bottom: 0.5em;}#sk-container-id-1 div.sk-estimator:hover {background-color: #d4ebff;}#sk-container-id-1 div.sk-parallel-item::after {content: \"\";width: 100%;border-bottom: 1px solid gray;flex-grow: 1;}#sk-container-id-1 div.sk-label:hover label.sk-toggleable__label {background-color: #d4ebff;}#sk-container-id-1 div.sk-serial::before {content: \"\";position: absolute;border-left: 1px solid gray;box-sizing: border-box;top: 0;bottom: 0;left: 50%;z-index: 0;}#sk-container-id-1 div.sk-serial {display: flex;flex-direction: column;align-items: center;background-color: white;padding-right: 0.2em;padding-left: 0.2em;position: relative;}#sk-container-id-1 div.sk-item {position: relative;z-index: 1;}#sk-container-id-1 div.sk-parallel {display: flex;align-items: stretch;justify-content: center;background-color: white;position: relative;}#sk-container-id-1 div.sk-item::before, #sk-container-id-1 div.sk-parallel-item::before {content: \"\";position: absolute;border-left: 1px solid gray;box-sizing: border-box;top: 0;bottom: 0;left: 50%;z-index: -1;}#sk-container-id-1 div.sk-parallel-item {display: flex;flex-direction: column;z-index: 1;position: relative;background-color: white;}#sk-container-id-1 div.sk-parallel-item:first-child::after {align-self: flex-end;width: 50%;}#sk-container-id-1 div.sk-parallel-item:last-child::after {align-self: flex-start;width: 50%;}#sk-container-id-1 div.sk-parallel-item:only-child::after {width: 0;}#sk-container-id-1 div.sk-dashed-wrapped {border: 1px dashed gray;margin: 0 0.4em 0.5em 0.4em;box-sizing: border-box;padding-bottom: 0.4em;background-color: white;}#sk-container-id-1 div.sk-label label {font-family: monospace;font-weight: bold;display: inline-block;line-height: 1.2em;}#sk-container-id-1 div.sk-label-container {text-align: center;}#sk-container-id-1 div.sk-container {/* jupyter's `normalize.less` sets `[hidden] { display: none; }` but bootstrap.min.css set `[hidden] { display: none !important; }` so we also need the `!important` here to be able to override the default hidden behavior on the sphinx rendered scikit-learn.org. See: https://github.com/scikit-learn/scikit-learn/issues/21755 */display: inline-block !important;position: relative;}#sk-container-id-1 div.sk-text-repr-fallback {display: none;}</style><div id=\"sk-container-id-1\" class=\"sk-top-container\"><div class=\"sk-text-repr-fallback\"><pre>LinearRegression()</pre><b>In a Jupyter environment, please rerun this cell to show the HTML representation or trust the notebook. <br />On GitHub, the HTML representation is unable to render, please try loading this page with nbviewer.org.</b></div><div class=\"sk-container\" hidden><div class=\"sk-item\"><div class=\"sk-estimator sk-toggleable\"><input class=\"sk-toggleable__control sk-hidden--visually\" id=\"sk-estimator-id-1\" type=\"checkbox\" checked><label for=\"sk-estimator-id-1\" class=\"sk-toggleable__label sk-toggleable__label-arrow\">LinearRegression</label><div class=\"sk-toggleable__content\"><pre>LinearRegression()</pre></div></div></div></div></div>"
      ],
      "text/plain": [
       "LinearRegression()"
      ]
     },
     "execution_count": 12,
     "metadata": {},
     "output_type": "execute_result"
    }
   ],
   "source": [
    "lin_reg.fit(X,y)                                  # Fit the data to the model"
   ]
  },
  {
   "cell_type": "code",
   "execution_count": 13,
   "id": "2838cad0",
   "metadata": {},
   "outputs": [
    {
     "data": {
      "text/plain": [
       "(array([4.45745482]), array([[3.00817572]]))"
      ]
     },
     "execution_count": 13,
     "metadata": {},
     "output_type": "execute_result"
    }
   ],
   "source": [
    "lin_reg.intercept_, lin_reg.coef_                 # Methods to view model parameters"
   ]
  },
  {
   "cell_type": "code",
   "execution_count": 14,
   "id": "0ce7c318",
   "metadata": {},
   "outputs": [
    {
     "data": {
      "text/plain": [
       "array([[ 4.45745482],\n",
       "       [10.47380625]])"
      ]
     },
     "execution_count": 14,
     "metadata": {},
     "output_type": "execute_result"
    }
   ],
   "source": [
    "lin_reg.predict(X_new)                        # Make predictions on new observations"
   ]
  },
  {
   "cell_type": "markdown",
   "id": "a0bc7c2a",
   "metadata": {},
   "source": [
    "We get the same answers as when using the closed for equation.\n",
    "\n",
    "With the `LinearRegression()` function, we made the predictions without doing any calculations; we just put the data into the model and it did the rest.\n",
    "\n",
    "Note: the `LinearRegression` class is based on scipy's `scipy.linalg.lstsq()` function. \n",
    "\n",
    "NEED TO ADD THE REST OF THE SECTION ON SVD AND COMPUTATIONAL COMPLEXITY"
   ]
  },
  {
   "cell_type": "markdown",
   "id": "79df8fc6",
   "metadata": {},
   "source": [
    "## Gradient Descent\n",
    "\"**Gradient descent is a generic optimization algorithm that iteratively tweaks parameters to find the optimal solution. It works with a wide range of problems.\" **\n",
    "\n",
    "Example: \"Suppose you are lost in the mountains and want to get down, and with a dense fog you cannot see anything. But, you can feel with your feet the steepness of the mountain. A good strategy is to go in the direction of the steepest slope.\n",
    "\n",
    "Gradient Descent does what the strategy to get off the mountain is, but with mathematics! The **Gradient Descent measures the local gradient of the error function with regards to $\\vec{\\theta}$ and goes in the direction of the descending gradient**.\n",
    "\n",
    "Gradient Descent usage:\n",
    " - Fill $\\vec{\\theta}$ with random values. (called random intialization)\n",
    " - gradually improve MSE until algorithm converges to a minimum.\n",
    " \n",
    "Important parameter in Gradient Descent - *learning rate* hyperparameter. The *learning rate* sets the size of the steps of the iterations.\n",
    "\n",
    "3 Reasons Learning Rate is Important:\n",
    " 1. Learning rate too small?\n",
    "  - Takes too long to converge, or get stuck\n",
    " 2. Learning rate too large? \n",
    "  - Gradient gets larger than it was and never finds a good solution.\n",
    " 3. Local and Global extrema?\n",
    "  - Gradient may get stuck at a local and never find the global minimum.\n",
    "  \n",
    "We don't have to worry about Local extrema with MSE, though, as it is a parabola.\n",
    "\n",
    "Remark: Scale all features before using Gradient Descent to minimize convergence time.\n",
    "\n",
    "Remark: Not only is *model training* setting a model's parameters to best fit the training set, it is also finding the best combination of parameters to minimize a cost function."
   ]
  },
  {
   "cell_type": "markdown",
   "id": "9549baad",
   "metadata": {},
   "source": [
    "## Batch Gradient Descent\n",
    "Batch Gradient Descent is Gradient Descent on the whole training set at every iteration.\n",
    "\n",
    "Note: Linear Regression is much faster than Batch GD when training on thousands of features.\n",
    "\n"
   ]
  },
  {
   "cell_type": "markdown",
   "id": "d945ef4e",
   "metadata": {},
   "source": [
    "## Stochastic Gradient Descent\n",
    "*Stochastic (Random) Gradient Descent* picks one random instance at each iteration and computes the gradient on only that instance. This is much faster than Batch GD and is better at training on huge datasets.\n",
    "\n",
    "Stochastic Gradient Descent (SGD) has a better chance of *approaching* global minima because it bounces around a lot before converging due to the random nature. But, it *never quite finds the global minimum* due to the stochastic nature. SGD is said to be **less regular**.\n",
    "\n",
    "A **solution to SGD not finding global minimum** is to gradually reduce the learning rate; use a **learning schedule**."
   ]
  },
  {
   "cell_type": "code",
   "execution_count": 15,
   "id": "4b43bb59",
   "metadata": {},
   "outputs": [],
   "source": [
    "# SGD Learning Schedule\n",
    "n_epochs = 50\n",
    "t0, t1 = 5, 50  # Learning Schedule Hyperparameters\n",
    "m = 100 # Taken from book code (not in file yet)\n",
    "\n",
    "def learning_schedule(t):\n",
    "    return t0/ (t+t1)\n",
    "\n",
    "theta = np.random.randn(2,1)\n",
    "\n",
    "\n",
    "## SGD implementation in code ##\n",
    "#\n",
    "# Learning rate starts at 1/(51) and gradually decreases the iterations\n",
    "for epoch in range(n_epochs): # Goes from 0 to 49\n",
    "    for i in range(m): # Goes from 0 to 99\n",
    "        random_index = np.random.randint(m) # Selects a number of 0 - 99\n",
    "        xi = X_b[random_index : random_index+1] # Selecting 1 value from X_b\n",
    "        yi = y[random_index : random_index+1]\n",
    "        gradients = 2 * xi.T.dot(xi.dot(theta) - yi)\n",
    "        eta = learning_schedule(epoch * m + 1) # Learning rate is constantly decreasing\n",
    "        theta = theta - eta * gradients\n",
    "        \n",
    "        "
   ]
  },
  {
   "cell_type": "code",
   "execution_count": 16,
   "id": "61d95bd4",
   "metadata": {},
   "outputs": [
    {
     "data": {
      "text/plain": [
       "array([[4.46166431],\n",
       "       [3.03336019]])"
      ]
     },
     "execution_count": 16,
     "metadata": {},
     "output_type": "execute_result"
    }
   ],
   "source": [
    "theta"
   ]
  },
  {
   "cell_type": "markdown",
   "id": "ff0e813c",
   "metadata": {},
   "source": [
    "\"We iterate by rounds of **m** iterations, each iteration is called an **epoch**.\n",
    "\n",
    "Note: Since some instances are picked randomly, some instances may be picked multiple times while some are picked none.\n",
    "\n",
    "When using SGD, instances must be independently and identically distributed (IID). To ensure this, shuffle the indices at each epoch.\n",
    "\n",
    "We can perform Linear Regression with SGD using SK-Learn."
   ]
  },
  {
   "cell_type": "code",
   "execution_count": 17,
   "id": "d67a5190",
   "metadata": {},
   "outputs": [
    {
     "data": {
      "text/html": [
       "<style>#sk-container-id-2 {color: black;background-color: white;}#sk-container-id-2 pre{padding: 0;}#sk-container-id-2 div.sk-toggleable {background-color: white;}#sk-container-id-2 label.sk-toggleable__label {cursor: pointer;display: block;width: 100%;margin-bottom: 0;padding: 0.3em;box-sizing: border-box;text-align: center;}#sk-container-id-2 label.sk-toggleable__label-arrow:before {content: \"▸\";float: left;margin-right: 0.25em;color: #696969;}#sk-container-id-2 label.sk-toggleable__label-arrow:hover:before {color: black;}#sk-container-id-2 div.sk-estimator:hover label.sk-toggleable__label-arrow:before {color: black;}#sk-container-id-2 div.sk-toggleable__content {max-height: 0;max-width: 0;overflow: hidden;text-align: left;background-color: #f0f8ff;}#sk-container-id-2 div.sk-toggleable__content pre {margin: 0.2em;color: black;border-radius: 0.25em;background-color: #f0f8ff;}#sk-container-id-2 input.sk-toggleable__control:checked~div.sk-toggleable__content {max-height: 200px;max-width: 100%;overflow: auto;}#sk-container-id-2 input.sk-toggleable__control:checked~label.sk-toggleable__label-arrow:before {content: \"▾\";}#sk-container-id-2 div.sk-estimator input.sk-toggleable__control:checked~label.sk-toggleable__label {background-color: #d4ebff;}#sk-container-id-2 div.sk-label input.sk-toggleable__control:checked~label.sk-toggleable__label {background-color: #d4ebff;}#sk-container-id-2 input.sk-hidden--visually {border: 0;clip: rect(1px 1px 1px 1px);clip: rect(1px, 1px, 1px, 1px);height: 1px;margin: -1px;overflow: hidden;padding: 0;position: absolute;width: 1px;}#sk-container-id-2 div.sk-estimator {font-family: monospace;background-color: #f0f8ff;border: 1px dotted black;border-radius: 0.25em;box-sizing: border-box;margin-bottom: 0.5em;}#sk-container-id-2 div.sk-estimator:hover {background-color: #d4ebff;}#sk-container-id-2 div.sk-parallel-item::after {content: \"\";width: 100%;border-bottom: 1px solid gray;flex-grow: 1;}#sk-container-id-2 div.sk-label:hover label.sk-toggleable__label {background-color: #d4ebff;}#sk-container-id-2 div.sk-serial::before {content: \"\";position: absolute;border-left: 1px solid gray;box-sizing: border-box;top: 0;bottom: 0;left: 50%;z-index: 0;}#sk-container-id-2 div.sk-serial {display: flex;flex-direction: column;align-items: center;background-color: white;padding-right: 0.2em;padding-left: 0.2em;position: relative;}#sk-container-id-2 div.sk-item {position: relative;z-index: 1;}#sk-container-id-2 div.sk-parallel {display: flex;align-items: stretch;justify-content: center;background-color: white;position: relative;}#sk-container-id-2 div.sk-item::before, #sk-container-id-2 div.sk-parallel-item::before {content: \"\";position: absolute;border-left: 1px solid gray;box-sizing: border-box;top: 0;bottom: 0;left: 50%;z-index: -1;}#sk-container-id-2 div.sk-parallel-item {display: flex;flex-direction: column;z-index: 1;position: relative;background-color: white;}#sk-container-id-2 div.sk-parallel-item:first-child::after {align-self: flex-end;width: 50%;}#sk-container-id-2 div.sk-parallel-item:last-child::after {align-self: flex-start;width: 50%;}#sk-container-id-2 div.sk-parallel-item:only-child::after {width: 0;}#sk-container-id-2 div.sk-dashed-wrapped {border: 1px dashed gray;margin: 0 0.4em 0.5em 0.4em;box-sizing: border-box;padding-bottom: 0.4em;background-color: white;}#sk-container-id-2 div.sk-label label {font-family: monospace;font-weight: bold;display: inline-block;line-height: 1.2em;}#sk-container-id-2 div.sk-label-container {text-align: center;}#sk-container-id-2 div.sk-container {/* jupyter's `normalize.less` sets `[hidden] { display: none; }` but bootstrap.min.css set `[hidden] { display: none !important; }` so we also need the `!important` here to be able to override the default hidden behavior on the sphinx rendered scikit-learn.org. See: https://github.com/scikit-learn/scikit-learn/issues/21755 */display: inline-block !important;position: relative;}#sk-container-id-2 div.sk-text-repr-fallback {display: none;}</style><div id=\"sk-container-id-2\" class=\"sk-top-container\"><div class=\"sk-text-repr-fallback\"><pre>SGDRegressor(eta0=0.1, penalty=None)</pre><b>In a Jupyter environment, please rerun this cell to show the HTML representation or trust the notebook. <br />On GitHub, the HTML representation is unable to render, please try loading this page with nbviewer.org.</b></div><div class=\"sk-container\" hidden><div class=\"sk-item\"><div class=\"sk-estimator sk-toggleable\"><input class=\"sk-toggleable__control sk-hidden--visually\" id=\"sk-estimator-id-2\" type=\"checkbox\" checked><label for=\"sk-estimator-id-2\" class=\"sk-toggleable__label sk-toggleable__label-arrow\">SGDRegressor</label><div class=\"sk-toggleable__content\"><pre>SGDRegressor(eta0=0.1, penalty=None)</pre></div></div></div></div></div>"
      ],
      "text/plain": [
       "SGDRegressor(eta0=0.1, penalty=None)"
      ]
     },
     "execution_count": 17,
     "metadata": {},
     "output_type": "execute_result"
    }
   ],
   "source": [
    "# Epochs = 1000 (max_iter)\n",
    "# tol = 1e-3    (code runs until max iterations are reached or loss is less than 1e-3)\n",
    "# penalty = None (More on this later)\n",
    "# eta0 = .1     (Learning rate)\n",
    "\n",
    "from sklearn.linear_model import SGDRegressor\n",
    "sgd_reg = SGDRegressor(max_iter = 1000, tol = 1e-3, penalty = None, eta0 = .1)\n",
    "sgd_reg.fit(X,y.ravel())"
   ]
  },
  {
   "cell_type": "code",
   "execution_count": 18,
   "id": "3f5e103b",
   "metadata": {},
   "outputs": [
    {
     "data": {
      "text/plain": [
       "(array([4.45144787]), array([3.02140687]))"
      ]
     },
     "execution_count": 18,
     "metadata": {},
     "output_type": "execute_result"
    }
   ],
   "source": [
    "sgd_reg.intercept_, sgd_reg.coef_"
   ]
  },
  {
   "cell_type": "markdown",
   "id": "46e1bdbc",
   "metadata": {},
   "source": [
    "## Mini-batch Gradient Descent\n",
    "Mini-batch Gradient Descent calculates the gradients on a small random set of instances called *mini batches*, rather than the whole training set as in Batch GD or single instances in SGD.\n",
    "\n",
    "The algorithm is less erratic than SGD and it may \"walk closer to the minimum\" but it still has the problem of local extrema.\n",
    "\n",
    "Like SGD, if we use a good learning schedule we can eventually reach the minimum.\n",
    "\n",
    "Concluding Gradient Descent: all models become very similar andmake predictions in the exact same way."
   ]
  },
  {
   "cell_type": "markdown",
   "id": "2c8e912d",
   "metadata": {},
   "source": [
    "## Polynomial Regression\n",
    "We can fit a linear model to nonlinear data by adding a power of each feature as a new feature; this is called **Polynomial Regression**.\n",
    "\n",
    "Ex: nonlinear data based on the quadratic eq."
   ]
  },
  {
   "cell_type": "code",
   "execution_count": 22,
   "id": "657e17c5",
   "metadata": {},
   "outputs": [],
   "source": [
    "m = 100\n",
    "X = 6 * np.random.rand(m, 1) - 3 # np.random.rand is uniform [0,1)\n",
    "y = 0.5 * X**2 + X + 2 + np.random.randn(m, 1)"
   ]
  },
  {
   "cell_type": "code",
   "execution_count": 26,
   "id": "9b13aabb",
   "metadata": {},
   "outputs": [
    {
     "data": {
      "text/plain": [
       "<matplotlib.collections.PathCollection at 0x17d75b810d0>"
      ]
     },
     "execution_count": 26,
     "metadata": {},
     "output_type": "execute_result"
    },
    {
     "data": {
      "image/png": "[encoded data removed]",
      "text/plain": [
       "<Figure size 640x480 with 1 Axes>"
      ]
     },
     "metadata": {},
     "output_type": "display_data"
    }
   ],
   "source": [
    "plt.scatter(X,y)"
   ]
  },
  {
   "cell_type": "markdown",
   "id": "395b2999",
   "metadata": {},
   "source": [
    "A straight line will never fit the data. We need to utilize Polynomial Regression with SK-learn's `PolynomialFeatures()` transformer."
   ]
  },
  {
   "cell_type": "code",
   "execution_count": 28,
   "id": "41811ffd",
   "metadata": {},
   "outputs": [
    {
     "name": "stdout",
     "output_type": "stream",
     "text": [
      "[0.77770569]\n",
      "[0.77770569 0.60482614]\n"
     ]
    }
   ],
   "source": [
    "from sklearn.preprocessing import PolynomialFeatures\n",
    "poly_features = PolynomialFeatures(degree=2, include_bias=False) # Initialize PolynomialFeatures class\n",
    "X_poly = poly_features.fit_transform(X) # Fit and transform the dataset\n",
    "print(X[0])\n",
    "print(X_poly[0])"
   ]
  },
  {
   "cell_type": "code",
   "execution_count": 31,
   "id": "378634ea",
   "metadata": {},
   "outputs": [
    {
     "name": "stdout",
     "output_type": "stream",
     "text": [
      "[[ 0.77770569]\n",
      " [-0.11038424]\n",
      " [-0.43213329]\n",
      " [-0.34195118]\n",
      " [-2.42754774]]\n",
      "\n",
      "[[ 0.77770569  0.60482614]\n",
      " [-0.11038424  0.01218468]\n",
      " [-0.43213329  0.18673918]\n",
      " [-0.34195118  0.11693061]\n",
      " [-2.42754774  5.89298803]]\n"
     ]
    }
   ],
   "source": [
    "print(X[0:5])\n",
    "print()\n",
    "print(X_poly[0:5])"
   ]
  },
  {
   "cell_type": "markdown",
   "id": "967a959d",
   "metadata": {},
   "source": [
    "The new feature is added. X_poly is the one feature of X plus the square of that one feature.\n",
    "\n",
    "We can now fit the transformed data to a Linear Regression model."
   ]
  },
  {
   "cell_type": "code",
   "execution_count": 32,
   "id": "08d8e39d",
   "metadata": {},
   "outputs": [
    {
     "data": {
      "text/plain": [
       "(array([1.65866997]), array([[1.07328256, 0.51284004]]))"
      ]
     },
     "execution_count": 32,
     "metadata": {},
     "output_type": "execute_result"
    }
   ],
   "source": [
    "lin_reg = LinearRegression()\n",
    "lin_reg.fit(X_poly, y)\n",
    "lin_reg.intercept_, lin_reg.coef_"
   ]
  },
  {
   "cell_type": "markdown",
   "id": "117c1ad7",
   "metadata": {},
   "source": [
    "The model is predicting $.51X^2 + 1.07X + 1.66$ when it is $.5X^2 + X + 2 + GaussianNoise$; not a bad prediction.\n",
    "\n",
    "PolynomialFeatures can also find relationships between features because it adds interaction (combinations of) features.\n",
    "\n",
    "Note: `PolynomialFeatures` will cause a combinatorial explosion of features if the dataset has too many features. It is not always good to use"
   ]
  },
  {
   "cell_type": "markdown",
   "id": "6e783b25",
   "metadata": {},
   "source": [
    "## Learning Curves\n",
    "High-degree Polynomial Regression can perform much better than Linear Regression, and it *can also severly overfit* the training data. We want to use a model that generalizes best to the data. In practice, we will not know that our data comes from a Quadratic distribution because we will have so many features; how will we tell if the dataset is overfit or underfit?\n",
    "\n",
    "*Other than cross-validation*, look at the **Learning Curves**.\n",
    "\n",
    "Recall: **With cross-validation, if the model performs well on the training data but poorly on the cross-validation, then your model is overfitting. If it performs poorly on both, the model is underfitting.**\n",
    "\n",
    "**Def'n** Learning Curves: Plots of the model's performance on training and validation sets as a function of the training set size. "
   ]
  },
  {
   "cell_type": "code",
   "execution_count": 39,
   "id": "5a83b7ec",
   "metadata": {},
   "outputs": [],
   "source": [
    "from sklearn.metrics import mean_squared_error\n",
    "from sklearn.model_selection import train_test_split\n",
    "\n",
    "def plot_learning_curves(model, X, y):\n",
    "    X_train, X_val, y_train, y_val = train_test_split(X, y, test_size=0.2)     # Split into training and val sets\n",
    "    train_errors, val_errors = [], []                                          # Create empty lists for holding errors       \n",
    "    for m in range(1, len(X_train)):                                           # Loop from 1 -> length(X_train) [80% data]\n",
    "        model.fit(X_train[:m], y_train[:m])                                    # Fit to the m datapoints\n",
    "        y_train_predict = model.predict(X_train[:m])                           # Predict on those m datapoints\n",
    "        y_val_predict = model.predict(X_val)                                   # Predict on the whole validation set\n",
    "        train_errors.append(mean_squared_error(y_train[:m], y_train_predict))  # Take the error\n",
    "        val_errors.append(mean_squared_error(y_val, y_val_predict))            \n",
    "    plt.plot(np.sqrt(train_errors), \"r-+\", linewidth=2, label=\"train\")\n",
    "    plt.plot(np.sqrt(val_errors), \"b-\", linewidth=3, label=\"val\")"
   ]
  },
  {
   "cell_type": "code",
   "execution_count": 40,
   "id": "e244804e",
   "metadata": {},
   "outputs": [
    {
     "data": {
      "image/png": "[encoded data removed]",
      "text/plain": [
       "<Figure size 640x480 with 1 Axes>"
      ]
     },
     "metadata": {},
     "output_type": "display_data"
    }
   ],
   "source": [
    "lin_reg = LinearRegression()\n",
    "plot_learning_curves(lin_reg, X, y)"
   ]
  },
  {
   "cell_type": "code",
   "execution_count": null,
   "id": "91a0d975",
   "metadata": {},
   "outputs": [],
   "source": []
  }
 ],
 "metadata": {
  "kernelspec": {
   "display_name": "Python 3 (ipykernel)",
   "language": "python",
   "name": "python3"
  },
  "language_info": {
   "codemirror_mode": {
    "name": "ipython",
    "version": 3
   },
   "file_extension": ".py",
   "mimetype": "text/x-python",
   "name": "python",
   "nbconvert_exporter": "python",
   "pygments_lexer": "ipython3",
   "version": "3.9.13"
  }
 },
 "nbformat": 4,
 "nbformat_minor": 5
}
