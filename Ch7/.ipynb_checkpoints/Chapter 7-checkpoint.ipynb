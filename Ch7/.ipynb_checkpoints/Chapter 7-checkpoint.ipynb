{
 "cells": [
  {
   "cell_type": "markdown",
   "id": "ebeb464f",
   "metadata": {},
   "source": [
    "# Chapter 7: Ensemble Learning and Random Forests"
   ]
  },
  {
   "cell_type": "markdown",
   "id": "d03d326f",
   "metadata": {},
   "source": [
    "Asking a question to a crowd of thousands of people and aggregating the answer will likely give you a better answer than asking an expert. This is called *wisdom of the crowd*. \n",
    "\n",
    "Similarly, we can aggregate the predictions of a group of predictors (predictors in this case are models: classifiers or regressors) and we get better predictions with a group than with even the best individual predictor. \n",
    "\n",
    "A group of predictors is called an **Ensemble**, thus we have **Ensemble Learning**. An Ensemble Learning algorithm is called an **Ensemble method**.\n",
    "\n",
    "For example, we can train a group of Decision Trees on different subsets of a training set, make predictions, then select the class which gets the most \"votes\" from the group of trees. An ensemble of Decision Trees is called a **Random Forest** and is one of the most powerful ML algorithms available; Ensemble methods frequently win ML competitions.\n",
    "\n",
    "This chapter covers:\n",
    " - Bagging and Pasting\n",
    " - Boosting\n",
    " - Stacking\n",
    " - etc."
   ]
  },
  {
   "cell_type": "markdown",
   "id": "688c59cb",
   "metadata": {},
   "source": [
    "## Voting Classifiers\n",
    "Suppose we have some different classification predictors (models), each one achieving around 80% accuracy: LRC, SVM, RFC (random forest), KNN, etc. \n",
    "\n",
    "A simple way to get an even better classifier is to aggregate the predictions of each classifier and predict the class that gets the most votes. A majority voting classifier is called a *Hard Voting* classifier.\n",
    "\n",
    "The voting classifier will produce a higher accuracy than the individual classifiers, themselves. \n",
    "\n",
    "Even if our voting classifier is filled with *weak learners* (algorithms that are only slightly better than random guessing), the ensemble is usually still better than a strong learner, provided there are a lot of weak learners and they are diverse. *Ensemble methods work best when the predictors are as independent as possible from one another*.\n",
    "\n",
    "Below see creation of a voting classifier:"
   ]
  },
  {
   "cell_type": "markdown",
   "id": "ff867fcf",
   "metadata": {},
   "source": [
    "```\n",
    "# Imports\n",
    "from sklearn.ensemble import RandomForestClassifier\n",
    "from sklearn.ensemble import VotingClassifier\n",
    "from sklearn.linear_model import LogisticRegression\n",
    "from sklearn.svm import SVC\n",
    "\n",
    "# 3 Different (and diverse) classifiers\n",
    "log_clf = LogisticRegression()\n",
    "rnd_clf = RandomForestClassifier()\n",
    "svm_clf = SVC()\n",
    "\n",
    "\n",
    "# Ensemble method: VotingClassifier\n",
    "voting_clf = VotingClassifier(estimators=[('lr', log_clf), \n",
    "                                          ('rf', rnd_clf), ('svc', svm_clf)],\n",
    "                              voting='hard')\n",
    "voting_clf.fit(X_train, y_train)\n",
    "\n",
    "\n",
    "from sklearn.metrics import accuracy_score\n",
    "for clf in (log_clf, rnd_clf, svm_clf, voting_clf):\n",
    "    clf.fit(X_train, y_train)\n",
    "    y_pred = clf.predict(X_test)\n",
    "    print(clf.__class__.__name__, accuracy_score(y_test, y_pred))\n",
    "```"
   ]
  },
  {
   "cell_type": "markdown",
   "id": "6f7fd14d",
   "metadata": {},
   "source": [
    "When running this code, the `voting_clf` should at least slightly outperform the individual classifiers.\n",
    "\n",
    "If all classifiers are able to estimate class probabilites (have a predict_proba() method), then SciKit-Learn can predict the class with the highest probability, averaged over the individual classifiers. This is called **soft voting**. Soft voting **achieves higher accuracy than hard voting because it gives higher weight to highly confident votes**.\n",
    "\n",
    "To *use soft voting*, replace `voting = 'hard'` with `voting = 'soft'`\n",
    "\n",
    "Note: SVC does not output probabilities by default; it needs the hyperparameter `probability = True`"
   ]
  },
  {
   "cell_type": "markdown",
   "id": "0b24942b",
   "metadata": {},
   "source": [
    "## Bagging and Pasting\n",
    "With Voting Classifiers, we used diverse (very different) training algorithms (Support vector, Logistic regression, and random forest in the above code).\n",
    "\n",
    "Another approach is to use many of the same training algorithm (predictor), but on different subsets of the training set. \n",
    "\n",
    "**Bagging**, short for *Bootstrap aggregating*, is taking subsets of the training set *with replacement*.\n",
    "\n",
    "**Pasting** is taking subsets of the training set *without replacement*.\n",
    "\n",
    "**Bagging and Pasting allow training instances to be sampled several times over multiple predictors, but ONLY BAGGING allows training instances to be samples several times for the same predictor, hence with replacement**.\n",
    "\n",
    "Once all predictors are trained, the ensemble makes the prediction by aggregating the individual predictions. The aggregation function is usually the *statistical mode* (the most frequent prediction just like Hard Voting), or the average for a Regression task.\n",
    "\n",
    "The individual predictors have a higher bias than if trained on the full training set, but the ensemble will have a similar bias and a lower variance.\n",
    "\n",
    "Training and predictions in ensemble methods can be done in parallel by allocating CPU cores or using different servers; just another reason ensembles are so strong."
   ]
  },
  {
   "cell_type": "markdown",
   "id": "ca561e09",
   "metadata": {},
   "source": [
    "### Bagging and Pasting in Scikit-Learn\n",
    "Bagging and Pasting are achieved by using the same class in SK-Learn.\n",
    "\n",
    "```\n",
    "# Imports\n",
    "from sklearn.ensemble import BaggingClassifier\n",
    "from sklearn.tree import DecisionTreeClassifier\n",
    "\n",
    "# Bagging/Pasting class\n",
    "bag_clf = BaggingClassifier(\n",
    " DecisionTreeClassifier(), n_estimators=500,\n",
    " max_samples=100, bootstrap=True, n_jobs=-1)\n",
    "\n",
    "bag_clf.fit(X_train, y_train)\n",
    "y_pred = bag_clf.predict(X_test)\n",
    "```\n",
    "\n",
    "In the above code for the BaggingClassifier():\n",
    " - DecisionTreeClassifier() is the predictor\n",
    " - `n_estimators` is using the predictor (Decision Tree) 500 times\n",
    " - `max_samples = 100` means each of the 500 predictors will be trained on 100 training instances\n",
    " - `bootstrapping = True` means bagging is used\n",
    "  - `= False` means pasting is used\n",
    " - `n_jobs = -1` means SK-Learn will use all CPU cores!\n",
    " \n",
    "BaggingClassifier *automatically performs soft voting if the base classifier has a predict_proba() method*.\n",
    "\n",
    "Note: Bagging generally performs better, but checking pasting with CV is a good idea sometimes."
   ]
  },
  {
   "cell_type": "markdown",
   "id": "5566c1c6",
   "metadata": {},
   "source": [
    "### Out of Bag Evaluation\n",
    "With bagging, since bootstrapping is used, some training instances are never seen by any classifier in the ensemble; these samples are said to be **out-of-bag (oob) instances**; because the *out-of-bag* instances were never seen, they can be used for evaluation on the predictor instead of a validation set.\n",
    "\n",
    "With the BaggingClassifier() use the `oob_score = True` parameter to automatically evaluate on the out-of-bag instances after training. The oob_score is recoverable with the `.oob_score_` attribute.\n",
    "\n",
    "```\n",
    " # Note the oob_score=True parameter\n",
    " bag_clf = BaggingClassifier(DecisionTreeClassifier(), \n",
    "                             n_estimators=500, bootstrap=True, \n",
    "                             n_jobs=-1, oob_score=True)\n",
    "\n",
    " bag_clf.fit(X_train, y_train)    # Fitting automatically evals the oob instances\n",
    " bag_clf.oob_score_               # Evaluation score on oob instances\n",
    "```\n",
    "\n",
    "We can also get the prediction probabilities with the `oob_decision_function_ ` attribute.\n",
    "\n",
    "```\n",
    " bag_clf.oob_decision_function_\n",
    "```"
   ]
  },
  {
   "cell_type": "markdown",
   "id": "e8c4045e",
   "metadata": {},
   "source": [
    "## Random Patches and Random Subspaces\n",
    "BaggingClassifier also support sampling features as well as the instances.\n",
    "\n",
    "Sampling the features is controlled by the two hyperparameter `max_features` and `bootstrap_features`, which work exactly the same way as sampling instances, just with the features instead. Thus, each predictor (model) is trained on a random subset of the input features.\n",
    "\n",
    "This is particularly useful when dealing with high-dimensional inputs, like images.\n",
    "\n",
    "Sampling both instances and features is called the **Random Patches method**.\n",
    "\n",
    "Keeping all training instances (for all predictors in the ensemble? ; with `bootstrap = False` and `max_samples = 1.0`) but sampling features (`bootstrap_features = True` and/or `max_features` < 1.0) is called **Random Subspaces method**.\n",
    "\n",
    "Note: using max_sample = 1.0 is saying to sample 100% of the instances for each predictor. Pretty sure.\n",
    "\n",
    "Sampling features results in even more predictor diversity, trading a bit more bias for\n",
    "a lower variance."
   ]
  },
  {
   "cell_type": "markdown",
   "id": "76caab6e",
   "metadata": {},
   "source": [
    "## Random Forests\n"
   ]
  }
 ],
 "metadata": {
  "kernelspec": {
   "display_name": "Python 3 (ipykernel)",
   "language": "python",
   "name": "python3"
  },
  "language_info": {
   "codemirror_mode": {
    "name": "ipython",
    "version": 3
   },
   "file_extension": ".py",
   "mimetype": "text/x-python",
   "name": "python",
   "nbconvert_exporter": "python",
   "pygments_lexer": "ipython3",
   "version": "3.9.13"
  }
 },
 "nbformat": 4,
 "nbformat_minor": 5
}
